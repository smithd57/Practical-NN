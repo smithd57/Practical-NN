{
 "cells": [
  {
   "cell_type": "code",
   "execution_count": 1,
   "metadata": {},
   "outputs": [
    {
     "data": {
      "text/html": [
       "<style>.container { width:100% !important; }</style>"
      ],
      "text/plain": [
       "<IPython.core.display.HTML object>"
      ]
     },
     "metadata": {},
     "output_type": "display_data"
    }
   ],
   "source": [
    "from IPython.core.display import display, HTML\n",
    "display(HTML(\"<style>.container { width:100% !important; }</style>\"))"
   ]
  },
  {
   "cell_type": "code",
   "execution_count": 2,
   "metadata": {},
   "outputs": [],
   "source": [
    "import tensorflow as tf\n",
    "import timeit\n",
    "import os\n",
    "from six.moves import cPickle\n",
    "from text_utils import TextLoader\n",
    "from tensorflow.contrib import rnn\n",
    "from char_rnn_model import Model\n",
    "import numpy as np\n",
    "import time\n",
    "import matplotlib.pyplot as plt\n"
   ]
  },
  {
   "cell_type": "markdown",
   "metadata": {},
   "source": [
    "# Define directories, hyperparameter"
   ]
  },
  {
   "cell_type": "code",
   "execution_count": 3,
   "metadata": {},
   "outputs": [],
   "source": [
    "directory = \"shakespeare.txt\"\n",
    "batch_size = 100\n",
    "seq_len = 15\n",
    "learning_rate = 0.001\n",
    "num_layers = 2\n",
    "rnn_size = 256\n",
    "num_steps = 20"
   ]
  },
  {
   "cell_type": "markdown",
   "metadata": {},
   "source": [
    "# Load data using TextLoader object"
   ]
  },
  {
   "cell_type": "code",
   "execution_count": 4,
   "metadata": {},
   "outputs": [
    {
     "name": "stdout",
     "output_type": "stream",
     "text": [
      "['\\n' '\\r' ' ' '!' '&' \"'\" ',' '-' '.' ':' ';' '?' 'a' 'b' 'c' 'd' 'e' 'f'\n",
      " 'g' 'h' 'i' 'j' 'k' 'l' 'm' 'n' 'o' 'p' 'q' 'r' 's' 't' 'u' 'v' 'w' 'x'\n",
      " 'y' 'z']\n",
      "38\n"
     ]
    }
   ],
   "source": [
    "text_load = TextLoader(directory, batch_size, seq_len)\n",
    "#text_train_in, text_valid_in, text_train_out, text_valid_out = text_load.split_data()\n",
    "vocab_size = len(text_load.char)\n",
    "vocab_reverse = text_load.vocab_reverse\n",
    "print(vocab_size)"
   ]
  },
  {
   "cell_type": "markdown",
   "metadata": {},
   "source": [
    "# Create your model object"
   ]
  },
  {
   "cell_type": "code",
   "execution_count": 5,
   "metadata": {},
   "outputs": [
    {
     "name": "stdout",
     "output_type": "stream",
     "text": [
      "WARNING:tensorflow:From C:\\Users\\Douglas Smith\\char_rnn_model.py:52: LSTMCell.__init__ (from tensorflow.python.ops.rnn_cell_impl) is deprecated and will be removed in a future version.\n",
      "Instructions for updating:\n",
      "This class is equivalent as tf.keras.layers.LSTMCell, and will be replaced by that in Tensorflow 2.0.\n",
      "WARNING:tensorflow:From C:\\Users\\Douglas Smith\\char_rnn_model.py:55: MultiRNNCell.__init__ (from tensorflow.python.ops.rnn_cell_impl) is deprecated and will be removed in a future version.\n",
      "Instructions for updating:\n",
      "This class is equivalent as tf.keras.layers.StackedRNNCells, and will be replaced by that in Tensorflow 2.0.\n",
      "WARNING:tensorflow:From C:\\Users\\Douglas Smith\\char_rnn_model.py:59: dynamic_rnn (from tensorflow.python.ops.rnn) is deprecated and will be removed in a future version.\n",
      "Instructions for updating:\n",
      "Please use `keras.layers.RNN(cell)`, which is equivalent to this API\n",
      "WARNING:tensorflow:From d:\\douglas_smith\\anaconda3\\envs\\ee596\\lib\\site-packages\\tensorflow\\python\\ops\\tensor_array_ops.py:162: colocate_with (from tensorflow.python.framework.ops) is deprecated and will be removed in a future version.\n",
      "Instructions for updating:\n",
      "Colocations handled automatically by placer.\n",
      "WARNING:tensorflow:From d:\\douglas_smith\\anaconda3\\envs\\ee596\\lib\\site-packages\\tensorflow\\python\\ops\\rnn_cell_impl.py:1259: calling dropout (from tensorflow.python.ops.nn_ops) with keep_prob is deprecated and will be removed in a future version.\n",
      "Instructions for updating:\n",
      "Please use `rate` instead of `keep_prob`. Rate should be set to `rate = 1 - keep_prob`.\n",
      "WARNING:tensorflow:From d:\\douglas_smith\\anaconda3\\envs\\ee596\\lib\\site-packages\\tensorflow\\contrib\\layers\\python\\layers\\layers.py:1624: flatten (from tensorflow.python.layers.core) is deprecated and will be removed in a future version.\n",
      "Instructions for updating:\n",
      "Use keras.layers.flatten instead.\n",
      "(900, 100, 15, 1)\n",
      "(900, 100, 38)\n",
      "t\n",
      "[[[31], [19], [16], [2], [22], [20], [25], [18]]]\n"
     ]
    }
   ],
   "source": [
    "the_model = Model(seq_len, rnn_size, num_layers, learning_rate, vocab_size)\n",
    "\n",
    "#load the data\n",
    "text_train_in = np.load(\"text_train_in.npy\")\n",
    "text_train_out = np.load(\"text_train_out.npy\")\n",
    "text_valid_in = np.load(\"text_valid_in.npy\")\n",
    "text_valid_out = np.load(\"text_valid_out.npy\")\n",
    "\n",
    "file_name = 'uni_char'\n",
    "with open(file_name, 'rb') as handle:\n",
    "    vocab = cPickle.load(handle)\n",
    "\n",
    "print(text_train_in.shape)\n",
    "print(text_train_out.shape)\n",
    "\n",
    "\n",
    "start = \"the king\"\n",
    "split = [[i for i in start]]\n",
    "print(split[0][0])\n",
    "\n",
    "val = split[0][0]\n",
    "\n",
    "for i in range(len(split[0])):\n",
    "    #print(type(split[0]))\n",
    "    val = split[0][i]\n",
    "    split[0][i] = [vocab[val]]\n",
    "print(split)"
   ]
  },
  {
   "cell_type": "markdown",
   "metadata": {},
   "source": [
    "# Training"
   ]
  },
  {
   "cell_type": "code",
   "execution_count": 6,
   "metadata": {
    "scrolled": true
   },
   "outputs": [
    {
     "name": "stdout",
     "output_type": "stream",
     "text": [
      "--- 28.986714601516724 seconds ---\n",
      "step 1, Accuracy training= 2.521\n",
      "step 1, Accuracy Valid= 2.444\n",
      "--- 28.414992332458496 seconds ---\n",
      "--- 28.214526891708374 seconds ---\n",
      "step 3, Accuracy training= 2.261\n",
      "step 3, Accuracy Valid= 2.258\n",
      "--- 28.585535526275635 seconds ---\n",
      "--- 28.301295280456543 seconds ---\n",
      "step 5, Accuracy training= 2.103\n",
      "step 5, Accuracy Valid= 2.119\n",
      "--- 27.537801027297974 seconds ---\n",
      "--- 28.085870265960693 seconds ---\n",
      "step 7, Accuracy training= 1.989\n",
      "step 7, Accuracy Valid= 2.053\n",
      "--- 28.338229656219482 seconds ---\n",
      "--- 28.468831300735474 seconds ---\n",
      "step 9, Accuracy training= 1.895\n",
      "step 9, Accuracy Valid= 2.021\n",
      "--- 27.92628002166748 seconds ---\n",
      "--- 27.648043155670166 seconds ---\n",
      "step 11, Accuracy training= 1.816\n",
      "step 11, Accuracy Valid= 1.993\n",
      "--- 27.84351921081543 seconds ---\n",
      "--- 27.69791054725647 seconds ---\n",
      "step 13, Accuracy training= 1.748\n",
      "step 13, Accuracy Valid= 2.003\n",
      "--- 27.93128538131714 seconds ---\n",
      "--- 28.782991886138916 seconds ---\n",
      "step 15, Accuracy training= 1.691\n",
      "step 15, Accuracy Valid= 2.060\n",
      "--- 28.440921783447266 seconds ---\n",
      "--- 29.11358618736267 seconds ---\n",
      "step 17, Accuracy training= 1.639\n",
      "step 17, Accuracy Valid= 2.017\n",
      "--- 28.70223641395569 seconds ---\n",
      "--- 28.315244913101196 seconds ---\n",
      "step 19, Accuracy training= 1.577\n",
      "step 19, Accuracy Valid= 2.019\n",
      "--- 29.74444007873535 seconds ---\n",
      "Training finished!\n"
     ]
    },
    {
     "data": {
      "text/plain": [
       "Text(0.5, 1.0, 'Epoch vs accuracy')"
      ]
     },
     "execution_count": 6,
     "metadata": {},
     "output_type": "execute_result"
    },
    {
     "data": {
      "image/png": "[encoded data removed]",
      "text/plain": [
       "<Figure size 432x288 with 1 Axes>"
      ]
     },
     "metadata": {
      "needs_background": "light"
     },
     "output_type": "display_data"
    }
   ],
   "source": [
    "#Initialize the variables\n",
    "def get_session():\n",
    "    \"\"\"Create a session that dynamically allocates memory.\"\"\"\n",
    "    # See: https://www.tensorflow.org/tutorials/using_gpu#allowing_gpu_memory_growth\n",
    "    config = tf.ConfigProto()\n",
    "    config.gpu_options.allow_growth = True\n",
    "    session = tf.Session(config=config)\n",
    "    return session\n",
    "sess = get_session()\n",
    "init = tf.global_variables_initializer()\n",
    "\n",
    "acc_list = []\n",
    "steps = []\n",
    "\n",
    "test_range = []\n",
    "correct_guess = []\n",
    "net_guess = []\n",
    "\n",
    "#with tf.Session() as sess:\n",
    "sess.run(init)\n",
    "\n",
    "for i in range(num_steps):\n",
    "    start_time = time.time()\n",
    "    #epoch training\n",
    "    acc_t = 0\n",
    "    for j in range(len(text_train_in)):\n",
    "        #fetch batch\n",
    "        batch_x = text_train_in[j]\n",
    "        #print(batch_x.shape)\n",
    "        batch_y = text_train_out[j]\n",
    "        #print(batch_y.shape)\n",
    "        #run optimization\n",
    "        sess.run(the_model.train_op, feed_dict={the_model.X:batch_x, the_model.Y:batch_y})\n",
    "\n",
    "        acc_t += sess.run(the_model.loss, feed_dict={the_model.X:batch_x, the_model.Y:batch_y})\n",
    "\n",
    "    acc_t = acc_t/len(text_train_in)\n",
    "    if (i+1) % (num_steps/10) == 0:\n",
    "        print(\"step \"+str(i)+\", Accuracy training= {:.3f}\".format(acc_t))\n",
    "\n",
    "    #epoch validation\n",
    "    acc = 0\n",
    "    for j in range(len(text_valid_in)):\n",
    "        #fetch batch\n",
    "        batch_x = text_valid_in[j]\n",
    "        batch_y = text_valid_out[j]\n",
    "        #run optimization\n",
    "        acc += sess.run(the_model.loss, feed_dict={the_model.X:batch_x, the_model.Y:batch_y})\n",
    "\n",
    "    acc = acc/len(text_valid_in)\n",
    "    if (i+1) % (num_steps/10) == 0:\n",
    "        print(\"step \"+str(i)+\", Accuracy Valid= {:.3f}\".format(acc))\n",
    "    acc_list.append(acc)\n",
    "    steps.append(i)\n",
    "\n",
    "    print(\"--- %s seconds ---\" % (time.time() - start_time))\n",
    "\n",
    "print(\"Training finished!\")\n",
    "\n",
    "#string_back = the_model.sample(sess, vocab, vocab_reverse, 15, \"first\")\n",
    "#string_round = np.round(string_back)\n",
    "#print(string_back)\n",
    "#print(string_back.shape)\n",
    "\n",
    "'''\n",
    "acc = 0\n",
    "for k in range(len(tesla_test_in)):\n",
    "#fetch batch\n",
    "    batch_x = tesla_test_in[k]\n",
    "    batch_y = tesla_test_out[k]\n",
    "    #run optimization\n",
    "    acc += sess.run(loss, feed_dict={X:batch_x, Y:batch_y})\n",
    "\n",
    "\n",
    "\n",
    "acc = acc/len(tesla_test_in)\n",
    "print(\"Test Accuracy= {:.3f}\".format(acc))\n",
    "\n",
    "#print(\"Testing Accuracy:\", sess.run(accuracy, feed_dict={X:mnist.test.images, Y:mnist.test.labels}))\n",
    "\n",
    "#print the first images\n",
    "for i in range(100):\n",
    "\n",
    "    batch_x = [preserve_tesla[i][0:5]]\n",
    "    #batch_y = tesla_test_out[0]\n",
    "    #run optimization\n",
    "    guesses = sess.run(logits, feed_dict={X:batch_x})\n",
    "\n",
    "    test_range.append(i)\n",
    "    correct_guess.append(preserve_tesla[i][5])\n",
    "    net_guess.append(guesses[0])\n",
    "\n",
    "'''\n",
    "\n",
    "#for images in range(10):\n",
    "#    cur_img = batch_x[images]\n",
    "#    b,g,r = cv2.split(cur_img)\n",
    "#    frame_rgb = cv2.merge((r,g,b))\n",
    "#    plt.imshow(frame_rgb)\n",
    "#    print(\"Guess:\", guesses[images])\n",
    "#    plt.show()\n",
    "    \n",
    "plt.figure()\n",
    "# plot epoch vs accuracy\n",
    "plt.plot(steps,acc_list,'--',lw=4)\n",
    "plt.ylabel('accuracy')\n",
    "plt.xlabel('epoch')\n",
    "plt.title('Epoch vs accuracy')\n",
    "\n",
    "#plt.figure()\n",
    "# plot epoch vs accuracy\n",
    "#plt.plot(test_range,correct_guess,'--',lw=4)\n",
    "#plt.plot(test_range,net_guess,'--',lw=4)\n",
    "#plt.ylabel('accuracy')\n",
    "#plt.xlabel('epoch')\n",
    "#plt.title('Epoch vs accuracy')"
   ]
  },
  {
   "cell_type": "markdown",
   "metadata": {},
   "source": [
    "# Generating Text"
   ]
  },
  {
   "cell_type": "code",
   "execution_count": 9,
   "metadata": {},
   "outputs": [
    {
     "name": "stdout",
     "output_type": "stream",
     "text": [
      "['t', ' ', 'i', 'n', 't', 'e', 'g', 'r', 'i', 't', 'y', ' ', 'w', 'h', 'i']\n",
      "t integrity whi\n",
      "t integrity which he their suibunes hn the people wour \n",
      "that hs the people of their latter oercl a metter for the people's andy.\n",
      "\n",
      "menenius:\n",
      "ho shall be so fore then and neren an his nefes orr and the hiart of min\n"
     ]
    }
   ],
   "source": [
    "input_string = text_train_in[0][0]\n",
    "final_string = []\n",
    "\n",
    "\n",
    "for i in range(len(input_string)):\n",
    "    curr_val = input_string[i][0]\n",
    "    curr_val = vocab_reverse[curr_val*vocab_size]\n",
    "    #print(curr_val)\n",
    "    final_string.append(curr_val)\n",
    "\n",
    "print(final_string)\n",
    "final_string = ''.join(final_string)\n",
    "print(final_string)\n",
    "\n",
    "string_back = the_model.sample(sess, vocab, vocab_reverse, 200, final_string)\n",
    "#string_round = np.round(string_back)\n",
    "#print(string_back)\n",
    "print(''.join(string_back))\n"
   ]
  },
  {
   "cell_type": "code",
   "execution_count": null,
   "metadata": {},
   "outputs": [],
   "source": []
  }
 ],
 "metadata": {
  "kernelspec": {
   "display_name": "Python 3",
   "language": "python",
   "name": "python3"
  },
  "language_info": {
   "codemirror_mode": {
    "name": "ipython",
    "version": 3
   },
   "file_extension": ".py",
   "mimetype": "text/x-python",
   "name": "python",
   "nbconvert_exporter": "python",
   "pygments_lexer": "ipython3",
   "version": "3.7.3"
  }
 },
 "nbformat": 4,
 "nbformat_minor": 2
}
