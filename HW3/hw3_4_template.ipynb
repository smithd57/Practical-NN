{
 "cells": [
  {
   "cell_type": "code",
   "execution_count": 1,
   "metadata": {},
   "outputs": [
    {
     "data": {
      "text/html": [
       "<style>.container { width:100% !important; }</style>"
      ],
      "text/plain": [
       "<IPython.core.display.HTML object>"
      ]
     },
     "metadata": {},
     "output_type": "display_data"
    }
   ],
   "source": [
    "from IPython.core.display import display, HTML\n",
    "display(HTML(\"<style>.container { width:100% !important; }</style>\"))"
   ]
  },
  {
   "cell_type": "code",
   "execution_count": 2,
   "metadata": {},
   "outputs": [],
   "source": [
    "import tensorflow as tf\n",
    "import timeit\n",
    "import os\n",
    "from six.moves import cPickle\n",
    "from text_utils import TextLoader\n",
    "from tensorflow.contrib import rnn\n",
    "from char_rnn_model import Model\n",
    "import numpy as np\n",
    "import time\n",
    "import matplotlib.pyplot as plt\n"
   ]
  },
  {
   "cell_type": "markdown",
   "metadata": {},
   "source": [
    "# Define directories, hyperparameter"
   ]
  },
  {
   "cell_type": "code",
   "execution_count": 16,
   "metadata": {},
   "outputs": [],
   "source": [
    "directory = \"shakespeare.txt\"\n",
    "batch_size = 100\n",
    "seq_len = 15\n",
    "learning_rate = 0.001\n",
    "num_layers = 2\n",
    "rnn_size = 256\n",
    "num_steps = 20"
   ]
  },
  {
   "cell_type": "markdown",
   "metadata": {},
   "source": [
    "# Load data using TextLoader object"
   ]
  },
  {
   "cell_type": "code",
   "execution_count": 17,
   "metadata": {},
   "outputs": [
    {
     "name": "stdout",
     "output_type": "stream",
     "text": [
      "['\\n' '\\r' ' ' '!' '&' \"'\" ',' '-' '.' ':' ';' '?' 'a' 'b' 'c' 'd' 'e' 'f'\n",
      " 'g' 'h' 'i' 'j' 'k' 'l' 'm' 'n' 'o' 'p' 'q' 'r' 's' 't' 'u' 'v' 'w' 'x'\n",
      " 'y' 'z']\n",
      "38\n"
     ]
    }
   ],
   "source": [
    "text_load = TextLoader(directory, batch_size, seq_len)\n",
    "#text_train_in, text_valid_in, text_train_out, text_valid_out = text_load.split_data()\n",
    "vocab_size = len(text_load.char)\n",
    "vocab_reverse = text_load.vocab_reverse\n",
    "print(vocab_size)"
   ]
  },
  {
   "cell_type": "markdown",
   "metadata": {},
   "source": [
    "# Create your model object"
   ]
  },
  {
   "cell_type": "code",
   "execution_count": 18,
   "metadata": {},
   "outputs": [
    {
     "name": "stdout",
     "output_type": "stream",
     "text": [
      "(900, 100, 15, 1)\n",
      "(900, 100, 38)\n",
      "t\n",
      "[[[31], [19], [16], [2], [22], [20], [25], [18]]]\n"
     ]
    }
   ],
   "source": [
    "the_model = Model(seq_len, rnn_size, num_layers, learning_rate, vocab_size)\n",
    "\n",
    "#load the data\n",
    "text_train_in = np.load(\"text_train_in.npy\")\n",
    "text_train_out = np.load(\"text_train_out.npy\")\n",
    "text_valid_in = np.load(\"text_valid_in.npy\")\n",
    "text_valid_out = np.load(\"text_valid_out.npy\")\n",
    "\n",
    "file_name = 'uni_char'\n",
    "with open(file_name, 'rb') as handle:\n",
    "    vocab = cPickle.load(handle)\n",
    "\n",
    "print(text_train_in.shape)\n",
    "print(text_train_out.shape)\n",
    "\n",
    "\n",
    "start = \"the king\"\n",
    "split = [[i for i in start]]\n",
    "print(split[0][0])\n",
    "\n",
    "val = split[0][0]\n",
    "\n",
    "for i in range(len(split[0])):\n",
    "    #print(type(split[0]))\n",
    "    val = split[0][i]\n",
    "    split[0][i] = [vocab[val]]\n",
    "print(split)"
   ]
  },
  {
   "cell_type": "markdown",
   "metadata": {},
   "source": [
    "# Training"
   ]
  },
  {
   "cell_type": "code",
   "execution_count": 19,
   "metadata": {
    "scrolled": true
   },
   "outputs": [
    {
     "name": "stdout",
     "output_type": "stream",
     "text": [
      "--- 28.930204391479492 seconds ---\n",
      "step 1, Accuracy training= 2.530\n",
      "step 1, Accuracy Valid= 2.459\n",
      "--- 29.037286281585693 seconds ---\n",
      "--- 29.164608001708984 seconds ---\n",
      "step 3, Accuracy training= 2.284\n",
      "step 3, Accuracy Valid= 2.264\n",
      "--- 29.41400933265686 seconds ---\n",
      "--- 29.087453842163086 seconds ---\n",
      "step 5, Accuracy training= 2.124\n",
      "step 5, Accuracy Valid= 2.145\n",
      "--- 28.99977421760559 seconds ---\n",
      "--- 28.53965926170349 seconds ---\n",
      "step 7, Accuracy training= 2.006\n",
      "step 7, Accuracy Valid= 2.087\n",
      "--- 28.646410942077637 seconds ---\n",
      "--- 28.59242582321167 seconds ---\n",
      "step 9, Accuracy training= 1.910\n",
      "step 9, Accuracy Valid= 2.030\n",
      "--- 29.537954092025757 seconds ---\n",
      "--- 28.69921374320984 seconds ---\n",
      "step 11, Accuracy training= 1.833\n",
      "step 11, Accuracy Valid= 1.994\n",
      "--- 28.359142541885376 seconds ---\n",
      "--- 28.796287536621094 seconds ---\n",
      "step 13, Accuracy training= 1.763\n",
      "step 13, Accuracy Valid= 1.984\n",
      "--- 29.264718294143677 seconds ---\n",
      "--- 28.73476815223694 seconds ---\n",
      "step 15, Accuracy training= 1.704\n",
      "step 15, Accuracy Valid= 1.988\n",
      "--- 28.639803886413574 seconds ---\n",
      "--- 29.003419399261475 seconds ---\n",
      "step 17, Accuracy training= 1.654\n",
      "step 17, Accuracy Valid= 1.997\n",
      "--- 28.93665337562561 seconds ---\n",
      "--- 28.880746841430664 seconds ---\n",
      "step 19, Accuracy training= 1.602\n",
      "step 19, Accuracy Valid= 2.021\n",
      "--- 29.270749807357788 seconds ---\n",
      "Training finished!\n"
     ]
    },
    {
     "data": {
      "text/plain": [
       "Text(0.5, 1.0, 'Epoch vs loss')"
      ]
     },
     "execution_count": 19,
     "metadata": {},
     "output_type": "execute_result"
    },
    {
     "data": {
      "image/png": "[encoded data removed]",
      "text/plain": [
       "<Figure size 432x288 with 1 Axes>"
      ]
     },
     "metadata": {
      "needs_background": "light"
     },
     "output_type": "display_data"
    }
   ],
   "source": [
    "#Initialize the variables\n",
    "def get_session():\n",
    "    \"\"\"Create a session that dynamically allocates memory.\"\"\"\n",
    "    # See: https://www.tensorflow.org/tutorials/using_gpu#allowing_gpu_memory_growth\n",
    "    config = tf.ConfigProto()\n",
    "    config.gpu_options.allow_growth = True\n",
    "    session = tf.Session(config=config)\n",
    "    return session\n",
    "sess = get_session()\n",
    "init = tf.global_variables_initializer()\n",
    "\n",
    "acc_list = []\n",
    "steps = []\n",
    "\n",
    "test_range = []\n",
    "correct_guess = []\n",
    "net_guess = []\n",
    "\n",
    "#with tf.Session() as sess:\n",
    "sess.run(init)\n",
    "\n",
    "for i in range(num_steps):\n",
    "    start_time = time.time()\n",
    "    #epoch training\n",
    "    acc_t = 0\n",
    "    for j in range(len(text_train_in)):\n",
    "        #fetch batch\n",
    "        batch_x = text_train_in[j]\n",
    "        #print(batch_x.shape)\n",
    "        batch_y = text_train_out[j]\n",
    "        #print(batch_y.shape)\n",
    "        #run optimization\n",
    "        sess.run(the_model.train_op, feed_dict={the_model.X:batch_x, the_model.Y:batch_y})\n",
    "\n",
    "        acc_t += sess.run(the_model.loss, feed_dict={the_model.X:batch_x, the_model.Y:batch_y})\n",
    "\n",
    "    acc_t = acc_t/len(text_train_in)\n",
    "    if (i+1) % (num_steps/10) == 0:\n",
    "        print(\"step \"+str(i)+\", Accuracy training= {:.3f}\".format(acc_t))\n",
    "\n",
    "    #epoch validation\n",
    "    acc = 0\n",
    "    for j in range(len(text_valid_in)):\n",
    "        #fetch batch\n",
    "        batch_x = text_valid_in[j]\n",
    "        batch_y = text_valid_out[j]\n",
    "        #run optimization\n",
    "        acc += sess.run(the_model.loss, feed_dict={the_model.X:batch_x, the_model.Y:batch_y})\n",
    "\n",
    "    acc = acc/len(text_valid_in)\n",
    "    if (i+1) % (num_steps/10) == 0:\n",
    "        print(\"step \"+str(i)+\", Accuracy Valid= {:.3f}\".format(acc))\n",
    "    acc_list.append(acc)\n",
    "    steps.append(i)\n",
    "\n",
    "    print(\"--- %s seconds ---\" % (time.time() - start_time))\n",
    "\n",
    "print(\"Training finished!\")\n",
    "\n",
    "#string_back = the_model.sample(sess, vocab, vocab_reverse, 15, \"first\")\n",
    "#string_round = np.round(string_back)\n",
    "#print(string_back)\n",
    "#print(string_back.shape)\n",
    "\n",
    "'''\n",
    "acc = 0\n",
    "for k in range(len(tesla_test_in)):\n",
    "#fetch batch\n",
    "    batch_x = tesla_test_in[k]\n",
    "    batch_y = tesla_test_out[k]\n",
    "    #run optimization\n",
    "    acc += sess.run(loss, feed_dict={X:batch_x, Y:batch_y})\n",
    "\n",
    "\n",
    "\n",
    "acc = acc/len(tesla_test_in)\n",
    "print(\"Test Accuracy= {:.3f}\".format(acc))\n",
    "\n",
    "#print(\"Testing Accuracy:\", sess.run(accuracy, feed_dict={X:mnist.test.images, Y:mnist.test.labels}))\n",
    "\n",
    "#print the first images\n",
    "for i in range(100):\n",
    "\n",
    "    batch_x = [preserve_tesla[i][0:5]]\n",
    "    #batch_y = tesla_test_out[0]\n",
    "    #run optimization\n",
    "    guesses = sess.run(logits, feed_dict={X:batch_x})\n",
    "\n",
    "    test_range.append(i)\n",
    "    correct_guess.append(preserve_tesla[i][5])\n",
    "    net_guess.append(guesses[0])\n",
    "\n",
    "'''\n",
    "\n",
    "#for images in range(10):\n",
    "#    cur_img = batch_x[images]\n",
    "#    b,g,r = cv2.split(cur_img)\n",
    "#    frame_rgb = cv2.merge((r,g,b))\n",
    "#    plt.imshow(frame_rgb)\n",
    "#    print(\"Guess:\", guesses[images])\n",
    "#    plt.show()\n",
    "    \n",
    "plt.figure()\n",
    "# plot epoch vs accuracy\n",
    "plt.plot(steps,acc_list,'--',lw=4)\n",
    "plt.ylabel('loss')\n",
    "plt.xlabel('epoch')\n",
    "plt.title('Epoch vs loss')\n",
    "\n",
    "#plt.figure()\n",
    "# plot epoch vs accuracy\n",
    "#plt.plot(test_range,correct_guess,'--',lw=4)\n",
    "#plt.plot(test_range,net_guess,'--',lw=4)\n",
    "#plt.ylabel('accuracy')\n",
    "#plt.xlabel('epoch')\n",
    "#plt.title('Epoch vs accuracy')"
   ]
  },
  {
   "cell_type": "markdown",
   "metadata": {},
   "source": [
    "# Generating Text"
   ]
  },
  {
   "cell_type": "code",
   "execution_count": 20,
   "metadata": {},
   "outputs": [
    {
     "name": "stdout",
     "output_type": "stream",
     "text": [
      "first string\n",
      "l take him for the people in the people shanl be consul,\n",
      "and the cody oface of the cody of hese?\n",
      "\n",
      "sicinius:\n",
      "he shall be to make in the whll.\n",
      "i will make manesilg.\n",
      "\n",
      "menenius:\n",
      "she gods bnrnds to be to mnse a p\n",
      "second string\n",
      "yet to trouble he hade a madee and to de in the sreee and ho the people in the cotiorants,\n",
      "and the preieity of the people.\n",
      "\n",
      "menenius:\n",
      "they have heer your poieesies in the mend of the weny showld be consul,\n",
      "whet\n",
      "third string\n",
      "in hand? where he hs bear\n",
      "that i am pnte as the people in the this oun andsy fe had mother,\n",
      "and the body of him.\n",
      "i whll not oo mers\n",
      "the people spane along iim ont him then and the people in a petsle forle wou ar\n",
      "valid string\n",
      "\n",
      "and a petition of him on lerer, the oeople in the world\n",
      "the people ane the cods.\n",
      "\n",
      "messenger:\n",
      "ie shey she gods \n",
      "ie iad no and terue the people she people,\n",
      "and the gods pf him of the moos\n",
      "the seopleer teans i\n"
     ]
    }
   ],
   "source": [
    "input_string = text_train_in[0][0]\n",
    "final_string = []\n",
    "\n",
    "\n",
    "for i in range(len(input_string)):\n",
    "    curr_val = input_string[i][0]\n",
    "    curr_val = vocab_reverse[curr_val*vocab_size]\n",
    "    #print(curr_val)\n",
    "    final_string.append(curr_val)\n",
    "\n",
    "#print(final_string)\n",
    "final_string = ''.join(final_string)\n",
    "#print(final_string)\n",
    "\n",
    "string_back = the_model.sample(sess, vocab, vocab_reverse, 200, final_string)\n",
    "#string_round = np.round(string_back)\n",
    "#print(string_back)\n",
    "print(\"first string\")\n",
    "print(''.join(string_back))\n",
    "\n",
    "input_string = text_train_in[0][1]\n",
    "final_string = []\n",
    "\n",
    "\n",
    "for i in range(len(input_string)):\n",
    "    curr_val = input_string[i][0]\n",
    "    curr_val = vocab_reverse[curr_val*vocab_size]\n",
    "    #print(curr_val)\n",
    "    final_string.append(curr_val)\n",
    "\n",
    "#print(final_string)\n",
    "final_string = ''.join(final_string)\n",
    "#print(final_string)\n",
    "\n",
    "string_back = the_model.sample(sess, vocab, vocab_reverse, 200, final_string)\n",
    "#string_round = np.round(string_back)\n",
    "#print(string_back)\n",
    "print(\"second string\")\n",
    "print(''.join(string_back))\n",
    "\n",
    "\n",
    "input_string = text_train_in[0][2]\n",
    "final_string = []\n",
    "\n",
    "\n",
    "for i in range(len(input_string)):\n",
    "    curr_val = input_string[i][0]\n",
    "    curr_val = vocab_reverse[curr_val*vocab_size]\n",
    "    #print(curr_val)\n",
    "    final_string.append(curr_val)\n",
    "\n",
    "#print(final_string)\n",
    "final_string = ''.join(final_string)\n",
    "#print(final_string)\n",
    "\n",
    "string_back = the_model.sample(sess, vocab, vocab_reverse, 200, final_string)\n",
    "#string_round = np.round(string_back)\n",
    "#print(string_back)\n",
    "print(\"third string\")\n",
    "print(''.join(string_back))\n",
    "\n",
    "input_string = text_valid_in[0][0]\n",
    "final_string = []\n",
    "\n",
    "\n",
    "for i in range(len(input_string)):\n",
    "    curr_val = input_string[i][0]\n",
    "    curr_val = vocab_reverse[curr_val*vocab_size]\n",
    "    #print(curr_val)\n",
    "    final_string.append(curr_val)\n",
    "\n",
    "#print(final_string)\n",
    "final_string = ''.join(final_string)\n",
    "#print(final_string)\n",
    "\n",
    "string_back = the_model.sample(sess, vocab, vocab_reverse, 200, final_string)\n",
    "#string_round = np.round(string_back)\n",
    "#print(string_back)\n",
    "print(\"valid string\")\n",
    "print(''.join(string_back))"
   ]
  },
  {
   "cell_type": "code",
   "execution_count": null,
   "metadata": {},
   "outputs": [],
   "source": []
  },
  {
   "cell_type": "code",
   "execution_count": null,
   "metadata": {},
   "outputs": [],
   "source": []
  }
 ],
 "metadata": {
  "kernelspec": {
   "display_name": "Python 3",
   "language": "python",
   "name": "python3"
  },
  "language_info": {
   "codemirror_mode": {
    "name": "ipython",
    "version": 3
   },
   "file_extension": ".py",
   "mimetype": "text/x-python",
   "name": "python",
   "nbconvert_exporter": "python",
   "pygments_lexer": "ipython3",
   "version": "3.7.3"
  }
 },
 "nbformat": 4,
 "nbformat_minor": 2
}
