{
 "cells": [
  {
   "cell_type": "code",
   "execution_count": 1,
   "metadata": {},
   "outputs": [],
   "source": [
    "import tensorflow as tf\n",
    "import numpy as np\n",
    "import matplotlib.pyplot as plt"
   ]
  },
  {
   "cell_type": "markdown",
   "metadata": {},
   "source": [
    "<h2>Define Hyper-parameters</h2>"
   ]
  },
  {
   "cell_type": "code",
   "execution_count": 2,
   "metadata": {},
   "outputs": [],
   "source": [
    "#controlling variables\n",
    "lr = 0.01\n",
    "num_of_steps = 100000"
   ]
  },
  {
   "cell_type": "markdown",
   "metadata": {},
   "source": [
    "<h2>Define your input data and expected labels</h2>"
   ]
  },
  {
   "cell_type": "code",
   "execution_count": 3,
   "metadata": {},
   "outputs": [],
   "source": [
    "#XOR logic\n",
    "x_data = [[0.0,0.0],[0.0,1.0],[1.0,0.0],[1.0,1.0]]\n",
    "y_data = [[0.0],[1.0],[1.0],[0.0]]"
   ]
  },
  {
   "cell_type": "markdown",
   "metadata": {},
   "source": [
    "<h2>Define placeholder and Variables</h2>"
   ]
  },
  {
   "cell_type": "code",
   "execution_count": 4,
   "metadata": {},
   "outputs": [
    {
     "name": "stdout",
     "output_type": "stream",
     "text": [
      "WARNING:tensorflow:From d:\\douglas_smith\\anaconda3\\envs\\ee596\\lib\\site-packages\\tensorflow\\python\\framework\\op_def_library.py:263: colocate_with (from tensorflow.python.framework.ops) is deprecated and will be removed in a future version.\n",
      "Instructions for updating:\n",
      "Colocations handled automatically by placer.\n"
     ]
    }
   ],
   "source": [
    "#create the X and Y placeholders\n",
    "X = tf.placeholder(tf.float32, shape=[4,2], name=\"X\")\n",
    "Y = tf.placeholder(tf.float32, shape=[4,1], name=\"Y\")\n",
    "\n",
    "#create the weights and biases\n",
    "weight_1 = tf.Variable(tf.random_normal([2,2], -1, 1), name=\"weight_1\")\n",
    "weight_out = tf.Variable(tf.random_normal([2,1], -1, 1), name=\"weight_out\")\n",
    "\n",
    "bias_1 = tf.Variable(tf.zeros([2]), name=\"bias_1\")\n",
    "bias_out = tf.Variable(tf.zeros([1]), name=\"bias_out\")"
   ]
  },
  {
   "cell_type": "markdown",
   "metadata": {},
   "source": [
    "<h2>Define the neural network</h2>"
   ]
  },
  {
   "cell_type": "code",
   "execution_count": 5,
   "metadata": {},
   "outputs": [],
   "source": [
    "#define a neural net model\n",
    "def neural_net(x):\n",
    "    hidden_1 = tf.sigmoid(tf.matmul(x, weight_1) + bias_1)\n",
    "    #out = tf.sigmoid(tf.matmul(hidden_1, weight_out) + bias_out)\n",
    "    out = tf.matmul(hidden_1, weight_out) + bias_out\n",
    "    return out"
   ]
  },
  {
   "cell_type": "markdown",
   "metadata": {},
   "source": [
    "<h2>Define cost function</h2>"
   ]
  },
  {
   "cell_type": "markdown",
   "metadata": {},
   "source": []
  },
  {
   "cell_type": "code",
   "execution_count": 6,
   "metadata": {},
   "outputs": [],
   "source": [
    "#apply the network\n",
    "logits = neural_net(X)\n",
    "answer = tf.sigmoid(logits)\n",
    "\n",
    "#calculate the cost\n",
    "cost = tf.reduce_mean(tf.nn.sigmoid_cross_entropy_with_logits(logits=logits,labels=Y),name='loss')\n",
    "\n",
    "#doing training\n",
    "optimizer = tf.train.GradientDescentOptimizer(learning_rate=lr)\n",
    "train_op = optimizer.minimize(cost)"
   ]
  },
  {
   "cell_type": "markdown",
   "metadata": {},
   "source": [
    "<h2>Execute training</h2>"
   ]
  },
  {
   "cell_type": "code",
   "execution_count": 9,
   "metadata": {
    "scrolled": false
   },
   "outputs": [
    {
     "name": "stdout",
     "output_type": "stream",
     "text": [
      "Epoch  0\n",
      "Accuracy 0.5\n",
      "Epoch  10000\n",
      "Accuracy 0.75\n",
      "Epoch  20000\n",
      "Accuracy 0.75\n",
      "Epoch  30000\n",
      "Accuracy 1.0\n",
      "Epoch  40000\n",
      "Accuracy 1.0\n",
      "Epoch  50000\n",
      "Accuracy 1.0\n",
      "Epoch  60000\n",
      "Accuracy 1.0\n",
      "Epoch  70000\n",
      "Accuracy 1.0\n",
      "Epoch  80000\n",
      "Accuracy 1.0\n",
      "Epoch  90000\n",
      "Accuracy 1.0\n",
      "Output  [[0.0125441 ]\n",
      " [0.98290807]\n",
      " [0.98291564]\n",
      " [0.01596031]]\n"
     ]
    }
   ],
   "source": [
    "#initialize\n",
    "init = tf.global_variables_initializer()\n",
    "sess = tf.Session()\n",
    "sess.run(init)\n",
    "\n",
    "#run the training\n",
    "for i in range(num_of_steps):\n",
    "    sess.run(train_op, feed_dict={X: x_data, Y: y_data})\n",
    "    \n",
    "    #print some info\n",
    "    if i % (num_of_steps/10) == 0:\n",
    "        print('Epoch ', i)\n",
    "        \n",
    "        current_guess = sess.run(logits, feed_dict={X: x_data, Y: y_data})\n",
    "        num_correct = 0.0\n",
    "        #convert the logits to an accuracy\n",
    "        for j in range(4):\n",
    "            logit_val = current_guess[j][0]\n",
    "            if(logit_val >0):\n",
    "                logit_val = 1\n",
    "            else:\n",
    "                logit_val = 0\n",
    "            \n",
    "            if(y_data[j][0] == logit_val):\n",
    "                num_correct += 1.0\n",
    "        \n",
    "        print('Accuracy', num_correct/4.0)\n",
    "\n",
    "#final output\n",
    "final_guess = sess.run(answer, feed_dict={X: x_data, Y: y_data})\n",
    "print('Output ', final_guess)"
   ]
  },
  {
   "cell_type": "markdown",
   "metadata": {},
   "source": [
    "<h2>Plot</h2>"
   ]
  },
  {
   "cell_type": "code",
   "execution_count": 11,
   "metadata": {},
   "outputs": [
    {
     "data": {
      "image/png": "[encoded data removed]",
      "text/plain": [
       "<Figure size 432x288 with 1 Axes>"
      ]
     },
     "metadata": {
      "needs_background": "light"
     },
     "output_type": "display_data"
    }
   ],
   "source": [
    "#plot out the decision line determined by learned weight and bias\n",
    "import matplotlib.pyplot as plt\n",
    "\n",
    "#setup x,y, and h\n",
    "x_plot = np.arange(-0.2, 1.4, 0.2)\n",
    "y_plot = x_plot.reshape(-1, 1)\n",
    "h = x_plot * y_plot\n",
    "y_plot = np.arange(-0.2, 1.4, 0.2)\n",
    "\n",
    "#go through the weights at different points\n",
    "for i in range(0, 8):\n",
    "    for j in range(0, 8):\n",
    "        arr = np.array([[x_plot[i],y_plot[j]],[x_plot[i],y_plot[j]],[x_plot[i],y_plot[j]],[x_plot[i],y_plot[j]]])\n",
    "        current_guess = sess.run(logits, feed_dict={X: arr})\n",
    "        \n",
    "        h[i][j] = np.round(current_guess[0][0])\n",
    "        \n",
    "#plot the graph\n",
    "CS3 = plt.contourf(x_plot, y_plot, h, levels=[-100.0, 0.0, 100.0],\n",
    "                   colors=('r', 'g'),\n",
    "                   #origin=origin,\n",
    "                   extend='both')"
   ]
  },
  {
   "cell_type": "code",
   "execution_count": null,
   "metadata": {},
   "outputs": [],
   "source": []
  }
 ],
 "metadata": {
  "kernelspec": {
   "display_name": "Python 3",
   "language": "python",
   "name": "python3"
  },
  "language_info": {
   "codemirror_mode": {
    "name": "ipython",
    "version": 3
   },
   "file_extension": ".py",
   "mimetype": "text/x-python",
   "name": "python",
   "nbconvert_exporter": "python",
   "pygments_lexer": "ipython3",
   "version": "3.7.3"
  }
 },
 "nbformat": 4,
 "nbformat_minor": 2
}
