{
 "cells": [
  {
   "cell_type": "code",
   "execution_count": 1,
   "metadata": {},
   "outputs": [],
   "source": [
    "import tensorflow as tf\n",
    "import pickle\n",
    "import numpy as np\n",
    "import timeit\n",
    "import load_cifar_template as lc\n",
    "import matplotlib.pyplot as plt\n",
    "import time"
   ]
  },
  {
   "cell_type": "code",
   "execution_count": 2,
   "metadata": {},
   "outputs": [],
   "source": [
    "tf.reset_default_graph()"
   ]
  },
  {
   "cell_type": "markdown",
   "metadata": {},
   "source": [
    "<h1>Define Hyper-perparmeter</h1>"
   ]
  },
  {
   "cell_type": "code",
   "execution_count": 3,
   "metadata": {},
   "outputs": [],
   "source": [
    "#Initialize stuff\n",
    "#learning rate\n",
    "lr = 0.01\n",
    "#number of traning steps\n",
    "num_steps = 20\n",
    "#number of batch_size\n",
    "batch_size = 50\n",
    "\n",
    "#network parameters\n",
    "n_hidden_1 = 20000\n",
    "n_hidden_2 = 5000\n",
    "n_hidden_3 = 1000\n",
    "#num_input = 784\n",
    "num_classes = 10"
   ]
  },
  {
   "cell_type": "markdown",
   "metadata": {},
   "source": [
    "<h1>Define Placeholder</h1>"
   ]
  },
  {
   "cell_type": "code",
   "execution_count": 4,
   "metadata": {},
   "outputs": [],
   "source": [
    "tf.reset_default_graph()\n",
    "\n",
    "\n",
    "#tf graph input\n",
    "X = tf.placeholder(tf.float32,[None,3072],name='X')\n",
    "Y = tf.placeholder(tf.int32,[None,num_classes],name='Y')\n",
    "\n"
   ]
  },
  {
   "cell_type": "markdown",
   "metadata": {},
   "source": [
    "<h1>Define Neural Network Architecture</h1>"
   ]
  },
  {
   "cell_type": "code",
   "execution_count": 5,
   "metadata": {},
   "outputs": [],
   "source": [
    "def neural_net(x):\n",
    "    keep_prob = 0.95\n",
    "    full1 = tf.contrib.layers.fully_connected(inputs=x, num_outputs=10000, activation_fn=tf.nn.relu)\n",
    "    full1 = tf.nn.dropout(full1, keep_prob)\n",
    "    #full1 = tf.layers.batch_normalization(full1)\n",
    "    \n",
    "    #second layer\n",
    "    full2 = tf.contrib.layers.fully_connected(inputs=full1, num_outputs=6000, activation_fn=tf.nn.relu)\n",
    "    full2 = tf.nn.dropout(full2, keep_prob)\n",
    "    #full2 = tf.layers.batch_normalization(full2)\n",
    "    \n",
    "    #third layer\n",
    "    full3 = tf.contrib.layers.fully_connected(inputs=full2, num_outputs=3000, activation_fn=tf.nn.relu)\n",
    "    full3 = tf.nn.dropout(full3, keep_prob)\n",
    "    #full3 = tf.layers.batch_normalization(full3)    \n",
    "    \n",
    "    #fourth layer\n",
    "    full4 = tf.contrib.layers.fully_connected(inputs=full3, num_outputs=2000, activation_fn=tf.nn.relu)\n",
    "    full4 = tf.nn.dropout(full4, keep_prob)\n",
    "    #full4 = tf.layers.batch_normalization(full4)        \n",
    "    \n",
    "    #fifth layer\n",
    "    out = tf.contrib.layers.fully_connected(inputs=full4, num_outputs=10, activation_fn=None)\n",
    "    return out\n",
    "\n"
   ]
  },
  {
   "cell_type": "markdown",
   "metadata": {},
   "source": [
    "<h1>Define cost andoptimization</h1>"
   ]
  },
  {
   "cell_type": "code",
   "execution_count": 6,
   "metadata": {},
   "outputs": [
    {
     "name": "stdout",
     "output_type": "stream",
     "text": [
      "\n",
      "WARNING: The TensorFlow contrib module will not be included in TensorFlow 2.0.\n",
      "For more information, please see:\n",
      "  * https://github.com/tensorflow/community/blob/master/rfcs/20180907-contrib-sunset.md\n",
      "  * https://github.com/tensorflow/addons\n",
      "If you depend on functionality not listed there, please file an issue.\n",
      "\n",
      "WARNING:tensorflow:From d:\\douglas_smith\\anaconda3\\envs\\ee596\\lib\\site-packages\\tensorflow\\python\\framework\\op_def_library.py:263: colocate_with (from tensorflow.python.framework.ops) is deprecated and will be removed in a future version.\n",
      "Instructions for updating:\n",
      "Colocations handled automatically by placer.\n",
      "WARNING:tensorflow:From <ipython-input-5-95ff6bd7c8c3>:4: calling dropout (from tensorflow.python.ops.nn_ops) with keep_prob is deprecated and will be removed in a future version.\n",
      "Instructions for updating:\n",
      "Please use `rate` instead of `keep_prob`. Rate should be set to `rate = 1 - keep_prob`.\n"
     ]
    }
   ],
   "source": [
    "#predicted labels\n",
    "logits = neural_net(X)\n",
    "\n",
    "#define loss\n",
    "loss = tf.reduce_mean(tf.nn.softmax_cross_entropy_with_logits_v2(logits=logits,labels=Y),name='loss')\n",
    "#define optimizer\n",
    "optimizer = tf.train.GradientDescentOptimizer(learning_rate=lr)\n",
    "train_op = optimizer.minimize(loss)\n",
    "\n",
    "#compare the predicted labels with true labels\n",
    "correct_pred = tf.equal(tf.argmax(logits,1),tf.argmax(Y,1))\n",
    "\n",
    "#compute the accuracy by taking average\n",
    "accuracy = tf.reduce_mean(tf.cast(correct_pred,tf.float32),name='accuracy')\n",
    "\n"
   ]
  },
  {
   "cell_type": "markdown",
   "metadata": {},
   "source": [
    "<h1>Training and testing</h1>\n",
    "<h2>1.Print out validation accuracy after each training poch</h2>\n",
    "<h2>2.Print out training time you spend on each epoch</h2>\n",
    "<h2>3.Print out testing accuracy in the end</h2>"
   ]
  },
  {
   "cell_type": "code",
   "execution_count": 7,
   "metadata": {},
   "outputs": [],
   "source": [
    "#Initialize the variables\n",
    "init = tf.global_variables_initializer()\n",
    "\n",
    "#set the training, validation, and testing data\n",
    "train_set_data = []\n",
    "train_set_labels = []\n",
    "data, labels = lc.load_preprocessed_training_batch(1,batch_size)\n",
    "train_set_data = train_set_data + data\n",
    "train_set_labels = train_set_labels + labels\n",
    "data, labels = lc.load_preprocessed_training_batch(2,batch_size)\n",
    "train_set_data = train_set_data + data\n",
    "train_set_labels = train_set_labels + labels\n",
    "data, labels = lc.load_preprocessed_training_batch(3,batch_size)\n",
    "train_set_data = train_set_data + data\n",
    "train_set_labels = train_set_labels + labels\n",
    "data, labels = lc.load_preprocessed_training_batch(4,batch_size)\n",
    "train_set_data = train_set_data + data\n",
    "train_set_labels = train_set_labels + labels\n",
    "data, labels = lc.load_preprocessed_training_batch(5,batch_size)\n",
    "train_set_data = train_set_data + data\n",
    "train_set_labels = train_set_labels + labels\n",
    "\n",
    "#print(len(train_set_data))\n",
    "\n",
    "valid_set_data, valid_set_labels = lc.load_preprocessed_validation_batch(batch_size)\n",
    "test_set_data, test_set_labels = lc.load_preprocessed_test_batch(batch_size)\n",
    "\n",
    "#print(len(valid_set_labels))\n",
    "#sums = [0]*10\n",
    "#for i in range(len(valid_set_labels)):\n",
    "#    for j in range(batch_size):\n",
    "#        curr = valid_set_labels[i][j]\n",
    "#        high = np.argmax(curr)\n",
    "#        sums[high] = sums[high] + 1\n",
    "#print(sums)"
   ]
  },
  {
   "cell_type": "code",
   "execution_count": 8,
   "metadata": {
    "scrolled": false
   },
   "outputs": [
    {
     "name": "stdout",
     "output_type": "stream",
     "text": [
      "step 0, Accuracy training= 0.411\n",
      "step 0, Accuracy valid= 0.376\n",
      "--- 29.953121185302734 seconds ---\n",
      "step 1, Accuracy training= 0.488\n",
      "step 1, Accuracy valid= 0.429\n",
      "--- 29.619883060455322 seconds ---\n",
      "step 2, Accuracy training= 0.524\n",
      "step 2, Accuracy valid= 0.448\n",
      "--- 29.71229362487793 seconds ---\n",
      "step 3, Accuracy training= 0.552\n",
      "step 3, Accuracy valid= 0.468\n",
      "--- 29.69087553024292 seconds ---\n",
      "step 4, Accuracy training= 0.578\n",
      "step 4, Accuracy valid= 0.474\n",
      "--- 29.716719388961792 seconds ---\n",
      "step 5, Accuracy training= 0.604\n",
      "step 5, Accuracy valid= 0.484\n",
      "--- 29.723723888397217 seconds ---\n",
      "step 6, Accuracy training= 0.626\n",
      "step 6, Accuracy valid= 0.493\n",
      "--- 29.713443279266357 seconds ---\n",
      "step 7, Accuracy training= 0.648\n",
      "step 7, Accuracy valid= 0.499\n",
      "--- 29.756340503692627 seconds ---\n",
      "step 8, Accuracy training= 0.668\n",
      "step 8, Accuracy valid= 0.501\n",
      "--- 29.766748666763306 seconds ---\n",
      "step 9, Accuracy training= 0.688\n",
      "step 9, Accuracy valid= 0.507\n",
      "--- 29.805042266845703 seconds ---\n",
      "step 9, Accuracy test= 0.505\n",
      "step 10, Accuracy training= 0.708\n",
      "step 10, Accuracy valid= 0.511\n",
      "--- 29.828366994857788 seconds ---\n",
      "step 11, Accuracy training= 0.729\n",
      "step 11, Accuracy valid= 0.508\n",
      "--- 29.804535150527954 seconds ---\n",
      "step 12, Accuracy training= 0.749\n",
      "step 12, Accuracy valid= 0.507\n",
      "--- 29.777950048446655 seconds ---\n",
      "step 13, Accuracy training= 0.767\n",
      "step 13, Accuracy valid= 0.511\n",
      "--- 29.810269117355347 seconds ---\n",
      "step 14, Accuracy training= 0.786\n",
      "step 14, Accuracy valid= 0.512\n",
      "--- 29.81192135810852 seconds ---\n",
      "step 15, Accuracy training= 0.804\n",
      "step 15, Accuracy valid= 0.513\n",
      "--- 29.921515226364136 seconds ---\n",
      "step 16, Accuracy training= 0.822\n",
      "step 16, Accuracy valid= 0.508\n",
      "--- 29.89154052734375 seconds ---\n",
      "step 17, Accuracy training= 0.839\n",
      "step 17, Accuracy valid= 0.524\n",
      "--- 29.962868452072144 seconds ---\n",
      "step 18, Accuracy training= 0.855\n",
      "step 18, Accuracy valid= 0.519\n",
      "--- 29.988327026367188 seconds ---\n",
      "step 19, Accuracy training= 0.869\n",
      "step 19, Accuracy valid= 0.521\n",
      "--- 29.783852338790894 seconds ---\n",
      "Training finished!\n",
      "step 19, Accuracy test= 0.521\n"
     ]
    },
    {
     "data": {
      "text/plain": [
       "Text(0.5, 1.0, 'Epoch vs accuracy valid')"
      ]
     },
     "execution_count": 8,
     "metadata": {},
     "output_type": "execute_result"
    },
    {
     "data": {
      "image/png": "[encoded data removed]",
      "text/plain": [
       "<Figure size 432x288 with 1 Axes>"
      ]
     },
     "metadata": {
      "needs_background": "light"
     },
     "output_type": "display_data"
    },
    {
     "data": {
      "image/png": "[encoded data removed]",
      "text/plain": [
       "<Figure size 432x288 with 1 Axes>"
      ]
     },
     "metadata": {
      "needs_background": "light"
     },
     "output_type": "display_data"
    }
   ],
   "source": [
    "acc_list_train = []\n",
    "acc_list_valid = []\n",
    "steps = []\n",
    "\n",
    "with tf.Session() as sess:\n",
    "    sess.run(init)\n",
    "    \n",
    "    for i in range(num_steps):\n",
    "        start_time = time.time()\n",
    "        #epoch training\n",
    "        acc_t = 0\n",
    "        for j in range(len(train_set_data)):\n",
    "            #fetch batch\n",
    "            batch_x = train_set_data[j]\n",
    "            #print(batch_x)\n",
    "            batch_y = train_set_labels[j]\n",
    "            #run optimization\n",
    "            sess.run(train_op, feed_dict={X:batch_x, Y:batch_y})\n",
    "            \n",
    "            acc_t += sess.run(accuracy, feed_dict={X:batch_x, Y:batch_y})\n",
    "        \n",
    "        acc_t = acc_t/len(train_set_data)\n",
    "        acc_list_train.append(acc_t)\n",
    "        print(\"step \"+str(i)+\", Accuracy training= {:.3f}\".format(acc_t))\n",
    "            \n",
    "        #epoch validation\n",
    "        acc = 0\n",
    "        for j in range(len(valid_set_data)):\n",
    "            #fetch batch\n",
    "            batch_x = valid_set_data[j]\n",
    "            batch_y = valid_set_labels[j]\n",
    "            #run optimization\n",
    "            acc += sess.run(accuracy, feed_dict={X:batch_x, Y:batch_y})\n",
    "        \n",
    "        acc = acc/len(valid_set_data)\n",
    "        print(\"step \"+str(i)+\", Accuracy valid= {:.3f}\".format(acc))\n",
    "        acc_list_valid.append(acc)\n",
    "        steps.append(i)\n",
    "        \n",
    "        print(\"--- %s seconds ---\" % (time.time() - start_time))\n",
    "        \n",
    "        #step 10 accuracy test\n",
    "        if (i == 9):\n",
    "            acc = 0\n",
    "            for k in range(len(test_set_data)):\n",
    "                #fetch batch\n",
    "                batch_x = test_set_data[k]\n",
    "                batch_y = test_set_labels[k]\n",
    "                #run optimization\n",
    "                acc += sess.run(accuracy, feed_dict={X:batch_x, Y:batch_y})\n",
    "\n",
    "            acc = acc/len(test_set_data)\n",
    "            print(\"step \"+str(i)+\", Accuracy test= {:.3f}\".format(acc))\n",
    "    \n",
    "    print(\"Training finished!\")\n",
    "    \n",
    "    acc = 0\n",
    "    for k in range(len(test_set_data)):\n",
    "        #fetch batch\n",
    "        batch_x = test_set_data[k]\n",
    "        batch_y = test_set_labels[k]\n",
    "        #run optimization\n",
    "        acc += sess.run(accuracy, feed_dict={X:batch_x, Y:batch_y})\n",
    "\n",
    "    acc = acc/len(test_set_data)\n",
    "    print(\"step \"+str(i)+\", Accuracy test= {:.3f}\".format(acc))\n",
    "    \n",
    "    #print(\"Testing Accuracy:\", sess.run(accuracy, feed_dict={X:mnist.test.images, Y:mnist.test.labels}))\n",
    "    \n",
    "    \n",
    "plt.figure()\n",
    "# plot epoch vs accuracy\n",
    "plt.plot(steps,acc_list_train,'--',lw=4)\n",
    "plt.ylabel('accuracy')\n",
    "plt.xlabel('epoch')\n",
    "plt.title('Epoch vs accuracy training')\n",
    "\n",
    "plt.figure()\n",
    "# plot epoch vs accuracy\n",
    "plt.plot(steps,acc_list_valid,'--',lw=4)\n",
    "plt.ylabel('accuracy')\n",
    "plt.xlabel('epoch')\n",
    "plt.title('Epoch vs accuracy valid')"
   ]
  },
  {
   "cell_type": "markdown",
   "metadata": {},
   "source": [
    "The training procedure used above trains over an entire epoch in batches and at the end of each epoch checks the accuracy of the validation data. After all the epochs have been completed the system then runs over the test data (a run over the test data is also done at the tenth epoch). While I was able to get the system to 50% accuracy on the test data I wasn't able to get it to do much better than that. Initially the primary issue I faced with the system was that it was underfitting so I increased the number of nodes and number of layers to increase the complexity of the system which helps with underfitting. Doing this I was able to get the system to reach 50% in 10 epochs (the primary goal). In tinkering with the system I found doing dropout and normalization only had minor benefits to improving the accuracy. Also running the system for longer than 10 epochs didn't help all that much as while the training accuracy got better over time, the validation and test accuracy only got to about 52%, a clear case of overfitting. This result isn't all that suprising as while with the MNIST training set high accuracies could be achieved with fairly small FC networks, FC seems to not be up to the task of sorting the more complex CIFAR10 images. \n",
    "\n",
    "To solve the issue of the overfitting of the model the simplest solution would be to generate more data. A simple way to do this would be to create rotated copies of all the images in the set to expand the data set. Having higher levels of dropout and/or decreasing the learning rate might also help in the long run of getting a better model, but these can slow down the training and interfer with the goal of 50% in ten epochs. "
   ]
  },
  {
   "cell_type": "code",
   "execution_count": null,
   "metadata": {},
   "outputs": [],
   "source": []
  }
 ],
 "metadata": {
  "kernelspec": {
   "display_name": "Python 3",
   "language": "python",
   "name": "python3"
  },
  "language_info": {
   "codemirror_mode": {
    "name": "ipython",
    "version": 3
   },
   "file_extension": ".py",
   "mimetype": "text/x-python",
   "name": "python",
   "nbconvert_exporter": "python",
   "pygments_lexer": "ipython3",
   "version": "3.7.3"
  }
 },
 "nbformat": 4,
 "nbformat_minor": 2
}
