{
 "cells": [
  {
   "cell_type": "code",
   "execution_count": 8,
   "metadata": {},
   "outputs": [],
   "source": [
    "import tensorflow as tf\n",
    "import pickle\n",
    "import numpy as np\n",
    "import timeit\n",
    "import load_cifar_template as lc\n",
    "from tensorflow.contrib.layers import flatten\n",
    "import matplotlib.pyplot as plt\n",
    "import time"
   ]
  },
  {
   "cell_type": "code",
   "execution_count": 2,
   "metadata": {},
   "outputs": [],
   "source": [
    "tf.reset_default_graph()"
   ]
  },
  {
   "cell_type": "markdown",
   "metadata": {},
   "source": [
    "<h1>Hyperparameter</h1>"
   ]
  },
  {
   "cell_type": "code",
   "execution_count": 3,
   "metadata": {},
   "outputs": [],
   "source": [
    "#learning rate\n",
    "lr = 0.0007\n",
    "#number of traning steps\n",
    "num_steps = 10\n",
    "#number of batch_size\n",
    "batch_size = 50\n",
    "#num_input = 784\n",
    "num_classes = 10\n",
    "\n",
    "num_train_batches = int(55000 / batch_size)\n",
    "num_valid_batches = int(5000 / batch_size)\n",
    "num_test_batches = int(10000 / batch_size)\n",
    "\n"
   ]
  },
  {
   "cell_type": "code",
   "execution_count": 4,
   "metadata": {},
   "outputs": [],
   "source": [
    "folder_path = \"CIFAR\"\n",
    "lc.preprocess_data(folder_path, True)"
   ]
  },
  {
   "cell_type": "markdown",
   "metadata": {},
   "source": [
    "<h1>Placeholder</h1>"
   ]
  },
  {
   "cell_type": "code",
   "execution_count": 4,
   "metadata": {},
   "outputs": [],
   "source": [
    "#tf graph input\n",
    "X = tf.placeholder(tf.float32,[None,32,32,3],name='X')\n",
    "Y = tf.placeholder(tf.int32,[None,num_classes],name='Y')"
   ]
  },
  {
   "cell_type": "markdown",
   "metadata": {},
   "source": [
    "<h1>LeNet-5</h1>"
   ]
  },
  {
   "cell_type": "code",
   "execution_count": 5,
   "metadata": {},
   "outputs": [],
   "source": [
    "def LeNet(x):    \n",
    "    #first conv/pool pair\n",
    "    conv1 = tf.layers.conv2d(x, 6, 5, activation=tf.nn.relu)\n",
    "    pool1 = tf.layers.max_pooling2d(conv1, 2, 2)\n",
    "    \n",
    "    #second conv/pool pairr\n",
    "    conv2 = tf.layers.conv2d(pool1, 16, 5, activation=tf.nn.relu)\n",
    "    pool2 = tf.layers.max_pooling2d(conv2, 2, 2)\n",
    "    \n",
    "    #flatten to connect to fully connected\n",
    "    full_in = flatten(pool2)\n",
    "    \n",
    "    #fully connected layer\n",
    "    full1 = tf.contrib.layers.fully_connected(inputs=full_in, num_outputs=120, activation_fn=tf.nn.relu)\n",
    "    full2 = tf.contrib.layers.fully_connected(inputs=full1, num_outputs=84, activation_fn=tf.nn.relu)\n",
    "    logits = tf.contrib.layers.fully_connected(inputs=full2, num_outputs=10, activation_fn=None)\n",
    "    return logits"
   ]
  },
  {
   "cell_type": "markdown",
   "metadata": {},
   "source": [
    "<h1>Cost and Optimization</h1>"
   ]
  },
  {
   "cell_type": "code",
   "execution_count": 6,
   "metadata": {},
   "outputs": [
    {
     "name": "stdout",
     "output_type": "stream",
     "text": [
      "WARNING:tensorflow:From <ipython-input-5-1b8b3dd45605>:3: conv2d (from tensorflow.python.layers.convolutional) is deprecated and will be removed in a future version.\n",
      "Instructions for updating:\n",
      "Use keras.layers.conv2d instead.\n",
      "WARNING:tensorflow:From d:\\douglas_smith\\anaconda3\\envs\\ee596\\lib\\site-packages\\tensorflow\\python\\framework\\op_def_library.py:263: colocate_with (from tensorflow.python.framework.ops) is deprecated and will be removed in a future version.\n",
      "Instructions for updating:\n",
      "Colocations handled automatically by placer.\n",
      "WARNING:tensorflow:From <ipython-input-5-1b8b3dd45605>:4: max_pooling2d (from tensorflow.python.layers.pooling) is deprecated and will be removed in a future version.\n",
      "Instructions for updating:\n",
      "Use keras.layers.max_pooling2d instead.\n",
      "WARNING:tensorflow:From d:\\douglas_smith\\anaconda3\\envs\\ee596\\lib\\site-packages\\tensorflow\\contrib\\layers\\python\\layers\\layers.py:1624: flatten (from tensorflow.python.layers.core) is deprecated and will be removed in a future version.\n",
      "Instructions for updating:\n",
      "Use keras.layers.flatten instead.\n"
     ]
    }
   ],
   "source": [
    "#predicted labels\n",
    "logits = LeNet(X)\n",
    "\n",
    "#define loss\n",
    "loss = tf.reduce_mean(tf.nn.softmax_cross_entropy_with_logits_v2(logits=logits,labels=Y),name='loss')\n",
    "#define optimizer\n",
    "#optimizer = tf.train.GradientDescentOptimizer(learning_rate=lr)\n",
    "optimizer = tf.train.AdamOptimizer(learning_rate=lr)\n",
    "train_op = optimizer.minimize(loss)\n",
    "#optimizer = tf.train.AdamOptimizer()\n",
    "#train_op = optimizer.minimize(loss)\n",
    "\n",
    "#compare the predicted labels with true labels\n",
    "correct_pred = tf.equal(tf.argmax(logits,1),tf.argmax(Y,1))\n",
    "\n",
    "#compute the accuracy by taking average\n",
    "accuracy = tf.reduce_mean(tf.cast(correct_pred,tf.float32),name='accuracy')"
   ]
  },
  {
   "cell_type": "markdown",
   "metadata": {},
   "source": [
    "<h1>Training, validation and testing</h1>\n",
    "<h2>Train your model only 10 epochs.</h2>\n",
    "<h2>1.Print out validation accuracy after each training epoch</h2>\n",
    "<h2>2.Print out training time for each training epoch</h2>\n",
    "<h2>3.Print out testing accuracy</h2>"
   ]
  },
  {
   "cell_type": "code",
   "execution_count": 9,
   "metadata": {},
   "outputs": [
    {
     "name": "stdout",
     "output_type": "stream",
     "text": [
      "step 0, Accuracy training= 0.380\n",
      "step 0, Accuracy valid= 0.456\n",
      "--- 12.075471639633179 seconds ---\n",
      "step 1, Accuracy training= 0.498\n",
      "step 1, Accuracy valid= 0.515\n",
      "--- 3.400934934616089 seconds ---\n",
      "step 2, Accuracy training= 0.545\n",
      "step 2, Accuracy valid= 0.541\n",
      "--- 3.4088549613952637 seconds ---\n",
      "step 3, Accuracy training= 0.575\n",
      "step 3, Accuracy valid= 0.566\n",
      "--- 3.408886671066284 seconds ---\n",
      "step 4, Accuracy training= 0.600\n",
      "step 4, Accuracy valid= 0.589\n",
      "--- 3.5604796409606934 seconds ---\n",
      "step 5, Accuracy training= 0.619\n",
      "step 5, Accuracy valid= 0.598\n",
      "--- 3.3500425815582275 seconds ---\n",
      "step 6, Accuracy training= 0.636\n",
      "step 6, Accuracy valid= 0.603\n",
      "--- 3.3430938720703125 seconds ---\n",
      "step 7, Accuracy training= 0.649\n",
      "step 7, Accuracy valid= 0.609\n",
      "--- 3.376966953277588 seconds ---\n",
      "step 8, Accuracy training= 0.663\n",
      "step 8, Accuracy valid= 0.610\n",
      "--- 3.3899073600769043 seconds ---\n",
      "step 9, Accuracy training= 0.674\n",
      "step 9, Accuracy valid= 0.615\n",
      "--- 3.3779988288879395 seconds ---\n",
      "Training finished!\n",
      "Accuracy test= 0.615\n"
     ]
    },
    {
     "data": {
      "text/plain": [
       "Text(0.5, 1.0, 'Epoch vs accuracy')"
      ]
     },
     "execution_count": 9,
     "metadata": {},
     "output_type": "execute_result"
    },
    {
     "data": {
      "image/png": "[encoded data removed]",
      "text/plain": [
       "<Figure size 432x288 with 1 Axes>"
      ]
     },
     "metadata": {
      "needs_background": "light"
     },
     "output_type": "display_data"
    }
   ],
   "source": [
    "#Initialize the variables\n",
    "init = tf.global_variables_initializer()\n",
    "\n",
    "#set the training, validation, and testing data\n",
    "train_set_data = []\n",
    "train_set_labels = []\n",
    "data, labels = lc.load_preprocessed_training_batch(1,batch_size)\n",
    "train_set_data = train_set_data + data\n",
    "train_set_labels = train_set_labels + labels\n",
    "data, labels = lc.load_preprocessed_training_batch(2,batch_size)\n",
    "train_set_data = train_set_data + data\n",
    "train_set_labels = train_set_labels + labels\n",
    "data, labels = lc.load_preprocessed_training_batch(3,batch_size)\n",
    "train_set_data = train_set_data + data\n",
    "train_set_labels = train_set_labels + labels\n",
    "data, labels = lc.load_preprocessed_training_batch(4,batch_size)\n",
    "train_set_data = train_set_data + data\n",
    "train_set_labels = train_set_labels + labels\n",
    "data, labels = lc.load_preprocessed_training_batch(5,batch_size)\n",
    "train_set_data = train_set_data + data\n",
    "train_set_labels = train_set_labels + labels\n",
    "\n",
    "#print(len(train_set_data))\n",
    "\n",
    "valid_set_data, valid_set_labels = lc.load_preprocessed_validation_batch(batch_size)\n",
    "test_set_data, test_set_labels = lc.load_preprocessed_test_batch(batch_size)\n",
    "\n",
    "acc_list = []\n",
    "steps = []\n",
    "\n",
    "with tf.Session() as sess:\n",
    "    sess.run(init)\n",
    "    \n",
    "    for i in range(num_steps):\n",
    "        start_time = time.time()\n",
    "        #epoch training\n",
    "        acc_t = 0\n",
    "        for j in range(len(train_set_data)):\n",
    "            #fetch batch\n",
    "            batch_x = train_set_data[j]\n",
    "            #print(batch_x)\n",
    "            batch_y = train_set_labels[j]\n",
    "            #run optimization\n",
    "            sess.run(train_op, feed_dict={X:batch_x, Y:batch_y})\n",
    "            \n",
    "            acc_t += sess.run(accuracy, feed_dict={X:batch_x, Y:batch_y})\n",
    "        \n",
    "        acc_t = acc_t/len(train_set_data)\n",
    "        print(\"step \"+str(i)+\", Accuracy training= {:.3f}\".format(acc_t))\n",
    "            \n",
    "        #epoch validation\n",
    "        acc = 0\n",
    "        for j in range(len(valid_set_data)):\n",
    "            #fetch batch\n",
    "            batch_x = valid_set_data[j]\n",
    "            batch_y = valid_set_labels[j]\n",
    "            #run optimization\n",
    "            acc += sess.run(accuracy, feed_dict={X:batch_x, Y:batch_y})\n",
    "        \n",
    "        acc = acc/len(valid_set_data)\n",
    "        print(\"step \"+str(i)+\", Accuracy valid= {:.3f}\".format(acc))\n",
    "        acc_list.append(acc)\n",
    "        steps.append(i)\n",
    "        \n",
    "        print(\"--- %s seconds ---\" % (time.time() - start_time))\n",
    "        \n",
    "        #step 10 accuracy test\n",
    "        #if (i == 9):\n",
    "        #    acc = 0\n",
    "        #    for k in range(len(test_set_data)):\n",
    "        #        #fetch batch\n",
    "        #        batch_x = test_set_data[k]\n",
    "        #        batch_y = test_set_labels[k]\n",
    "        #        #run optimization\n",
    "        #        acc += sess.run(accuracy, feed_dict={X:batch_x, Y:batch_y})\n",
    "        #\n",
    "        #    acc = acc/len(test_set_data)\n",
    "        #    print(\"step \"+str(i)+\", Accuracy test= {:.3f}\".format(acc))\n",
    "    \n",
    "    print(\"Training finished!\")\n",
    "    \n",
    "    acc = 0\n",
    "    for k in range(len(test_set_data)):\n",
    "        #fetch batch\n",
    "        batch_x = test_set_data[k]\n",
    "        batch_y = test_set_labels[k]\n",
    "        #run optimization\n",
    "        acc += sess.run(accuracy, feed_dict={X:batch_x, Y:batch_y})\n",
    "\n",
    "    acc = acc/len(test_set_data)\n",
    "    print(\"Accuracy test= {:.3f}\".format(acc))\n",
    "    \n",
    "    #print(\"Testing Accuracy:\", sess.run(accuracy, feed_dict={X:mnist.test.images, Y:mnist.test.labels}))\n",
    "    \n",
    "    \n",
    "plt.figure()\n",
    "# plot epoch vs accuracy\n",
    "plt.plot(steps,acc_list,'--',lw=4)\n",
    "plt.ylabel('accuracy')\n",
    "plt.xlabel('epoch')\n",
    "plt.title('Epoch vs accuracy')"
   ]
  },
  {
   "cell_type": "code",
   "execution_count": null,
   "metadata": {},
   "outputs": [],
   "source": []
  }
 ],
 "metadata": {
  "kernelspec": {
   "display_name": "Python 3",
   "language": "python",
   "name": "python3"
  },
  "language_info": {
   "codemirror_mode": {
    "name": "ipython",
    "version": 3
   },
   "file_extension": ".py",
   "mimetype": "text/x-python",
   "name": "python",
   "nbconvert_exporter": "python",
   "pygments_lexer": "ipython3",
   "version": "3.7.3"
  }
 },
 "nbformat": 4,
 "nbformat_minor": 2
}
