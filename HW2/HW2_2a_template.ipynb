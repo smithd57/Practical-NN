{
 "cells": [
  {
   "cell_type": "code",
   "execution_count": 2,
   "metadata": {},
   "outputs": [],
   "source": [
    "import pickle\n",
    "import numpy as np\n",
    "import matplotlib.pyplot as plt\n",
    "import load_cifar_template"
   ]
  },
  {
   "cell_type": "markdown",
   "metadata": {},
   "source": [
    "<p style=\"font-size:20px\">You will define the preprocessing functions in <b>load_cifar.py</b>. Once you are done, you can verify the functions in this template and prepare your data well.</p>"
   ]
  },
  {
   "cell_type": "code",
   "execution_count": 3,
   "metadata": {},
   "outputs": [],
   "source": [
    "#define your folder directory\n",
    "folder_path = \"CIFAR\""
   ]
  },
  {
   "cell_type": "markdown",
   "metadata": {},
   "source": [
    "<h1>load data</h1>\n",
    "<p style=\"font-size:20px\">Check your functinons load_training_batch and load_testing_batch function are correct."
   ]
  },
  {
   "cell_type": "code",
   "execution_count": 4,
   "metadata": {},
   "outputs": [
    {
     "name": "stdout",
     "output_type": "stream",
     "text": [
      "dict_keys([b'batch_label', b'labels', b'data', b'filenames'])\n",
      "(10000, 3072)\n",
      "10000\n"
     ]
    }
   ],
   "source": [
    "#######example: load the data_batch_1 , FEEL FREE TO CHANGE #######\n",
    "batch_1 = load_cifar_template.load_training_batch(folder_path,1)\n",
    "\n",
    "#load_cifar_template.load_label_names(folder_path,1)\n",
    "\n",
    "\n",
    "######VERIFY THE KEYS, SHAPE OF EACH BATCH #####\n",
    "print(batch_1.keys())\n",
    "#make sure you see the keys are ['batch_label','labels','data','filenames']\n",
    "features_1 = batch_1[b'data']\n",
    "print(features_1.shape)\n",
    "#you should see the shape is (10000,3072)\n",
    "\n",
    "#print(load_cifar_template.normalize(features_1))\n",
    "labels_1 = batch_1[b'labels']\n",
    "print(len(labels_1))\n",
    "#the length of labels_1 should be 10000"
   ]
  },
  {
   "cell_type": "markdown",
   "metadata": {},
   "source": [
    "<h1>features reshape</h1>\n",
    "<p style=\"font-size:20px\">Verify features_reshape() function."
   ]
  },
  {
   "cell_type": "code",
   "execution_count": 5,
   "metadata": {},
   "outputs": [
    {
     "name": "stdout",
     "output_type": "stream",
     "text": [
      "(10000, 32, 32, 3)\n"
     ]
    }
   ],
   "source": [
    "######example: reshape the features of batch_1 , FEEL FREE TO CHANGE#####\n",
    "features_1 = load_cifar_template.features_reshape(features_1)\n",
    "print(features_1.shape)\n",
    "#you should see the shape is (10000,32,32,3)\n",
    "#normed = load_cifar_template.normalize(features_1, len(features_1))\n",
    "#load_cifar_template.features_reshape(normed)\n",
    "\n"
   ]
  },
  {
   "cell_type": "markdown",
   "metadata": {},
   "source": [
    "<h1>display data stat (optional)</h1>\n",
    "<p style=\"font-size:20px\">If you implement this function, you could see the stats of specific batch data and also you can visualize specific data image</p>"
   ]
  },
  {
   "cell_type": "code",
   "execution_count": 5,
   "metadata": {},
   "outputs": [],
   "source": [
    "#check the 7000 example of batch_3, you should see an \"airplane\"\n",
    "#data_id = 7000\n",
    "#batch_id = 3\n",
    "#display_data_stat(folder_path,batch_id,data_id)"
   ]
  },
  {
   "cell_type": "markdown",
   "metadata": {},
   "source": [
    "<h1>Run preprocess data function</h1>\n",
    "<p style=\"font-size:20px\">This functions will load all training and testing batches, separate the validation set, and save them as \"Pickle\" objects</p>"
   ]
  },
  {
   "cell_type": "code",
   "execution_count": 6,
   "metadata": {},
   "outputs": [],
   "source": [
    "load_cifar_template.preprocess_data(folder_path, False)"
   ]
  },
  {
   "cell_type": "markdown",
   "metadata": {},
   "source": [
    "<h1>load preprocessed training,validation and testing data</h1>\n",
    "<p style=\"font-size:20px\">Check the shape of your preprocessed data files</p>"
   ]
  },
  {
   "cell_type": "code",
   "execution_count": 7,
   "metadata": {},
   "outputs": [],
   "source": [
    "#### EXAMPLE, FEEL FREE TO CHANGE #####\n",
    "valid_features, valid_labels = pickle.load(open('valid','rb'))\n",
    "training_features,training_labels = pickle.load(open('train_1','rb'))\n",
    "test_features, test_labels = pickle.load(open('test','rb'))\n",
    "\n",
    "\n",
    "file_name = 'train_1'\n",
    "with open(file_name, 'rb') as handle:\n",
    "    b = pickle.load(handle)\n",
    "\n",
    "###fetch features using the key ['data']###\n",
    "features = b['data']\n",
    "###fetch labels using the key ['labels']###\n",
    "labels = b['labels']\n"
   ]
  },
  {
   "cell_type": "code",
   "execution_count": 8,
   "metadata": {},
   "outputs": [
    {
     "name": "stdout",
     "output_type": "stream",
     "text": [
      "(10000, 3072)\n",
      "(10000, 10)\n"
     ]
    }
   ],
   "source": [
    "#check the shape of data and labels, please make sure there is no error\n",
    "#before you implement your neural network.\n",
    "print(features.shape)\n",
    "print(labels.shape)"
   ]
  },
  {
   "cell_type": "code",
   "execution_count": null,
   "metadata": {},
   "outputs": [],
   "source": []
  }
 ],
 "metadata": {
  "kernelspec": {
   "display_name": "Python 3",
   "language": "python",
   "name": "python3"
  },
  "language_info": {
   "codemirror_mode": {
    "name": "ipython",
    "version": 3
   },
   "file_extension": ".py",
   "mimetype": "text/x-python",
   "name": "python",
   "nbconvert_exporter": "python",
   "pygments_lexer": "ipython3",
   "version": "3.7.3"
  }
 },
 "nbformat": 4,
 "nbformat_minor": 2
}
