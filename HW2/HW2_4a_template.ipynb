{
 "cells": [
  {
   "cell_type": "markdown",
   "metadata": {},
   "source": [
    "<p style=\"font-size:20px\">You may need to install <b>tqdm</b> and <b>cv2</b>. Simply do <b>conda install tqdm</b> and <b>conda install cv2</b> in your virtual environment. You are also free to use other tools to fetch the image files and resize them.</p>"
   ]
  },
  {
   "cell_type": "code",
   "execution_count": 1,
   "metadata": {},
   "outputs": [],
   "source": [
    "import numpy as np\n",
    "import matplotlib.pyplot as plt\n",
    "from random import shuffle\n",
    "from tqdm import tqdm\n",
    "import pickle\n",
    "import os\n",
    "import cv2\n",
    "import timeit"
   ]
  },
  {
   "cell_type": "markdown",
   "metadata": {},
   "source": [
    "<p style=\"font-size:20px\">In Problem 4a, you will preprocess the dogs and cats data and save them into \"Pickle\" files for later use."
   ]
  },
  {
   "cell_type": "code",
   "execution_count": 2,
   "metadata": {},
   "outputs": [],
   "source": [
    "train_dir = \"Desktop/cats_and_dogs/train\"\n",
    "test_dir = \"Desktop/cats_and_dogs/test1\""
   ]
  },
  {
   "cell_type": "markdown",
   "metadata": {},
   "source": [
    "<p style=\"font-size:20px\">Step 1: Kaggle does not provide a file that contains the labels. So we need to create labels from the training file."
   ]
  },
  {
   "cell_type": "code",
   "execution_count": 3,
   "metadata": {},
   "outputs": [],
   "source": [
    "\"\"\"\n",
    "a function to return the label of a image\n",
    "input: \n",
    "    image\n",
    "return:\n",
    "    if the image is cat, return [1,0]\n",
    "    if the image is dog, return [0,1]\n",
    "\"\"\"\n",
    "def label_img(img):\n",
    "    #################\n",
    "    if(img.startswith( 'cat' )):\n",
    "        return [1,0]\n",
    "    else:\n",
    "        return [0,1]\n",
    "    #################"
   ]
  },
  {
   "cell_type": "markdown",
   "metadata": {},
   "source": [
    "<p style=\"font-size:20px\">Step 2: define a function to fetch all images from the training directory and return a <b>list</b> that every element contains two <b>Numpy array</b>:image and its label."
   ]
  },
  {
   "cell_type": "code",
   "execution_count": 4,
   "metadata": {},
   "outputs": [],
   "source": [
    "\"\"\"\n",
    "Hint 1: use tqdm to fetch file\n",
    "    for file in tqdm(os.listdir(directory)):\n",
    "        ...\n",
    "\n",
    "Hint 2: use cv2 to read file\n",
    "    cv2.imread(path)\n",
    "\n",
    "Hint 3: use cv2 to resize img\n",
    "    cv2.resize(img, (size, size))\n",
    "\"\"\"\n",
    "def create_train_data():\n",
    "    ###create a list###\n",
    "    train_list = []\n",
    "    ####for loop to fetch img from directory (hint:use tqdm)###\n",
    "    for file in tqdm(os.listdir(train_dir)):\n",
    "        full_img_str = train_dir + \"/\" + file\n",
    "        \n",
    "        ###get label of img###\n",
    "        label = label_img(file)\n",
    "        \n",
    "        ###use cv2 to read the img and resize the it to (227 x 227)###\n",
    "        the_img = cv2.imread(full_img_str)\n",
    "        resized_img = cv2.resize(the_img,(227,227))\n",
    "        \n",
    "        ###append the img and label to the list###\n",
    "        sub_list = [resized_img, label]\n",
    "        train_list.append(sub_list)\n",
    "    ###shuffle training data###\n",
    "    np.random.shuffle(train_list)\n",
    "    \n",
    "    ###return training data###\n",
    "    return train_list\n",
    "#create_train_data()"
   ]
  },
  {
   "cell_type": "markdown",
   "metadata": {},
   "source": [
    "<p style=\"font-size:20px\">Step 3: define a similar function to fetch all test data. You don't need to label them."
   ]
  },
  {
   "cell_type": "code",
   "execution_count": 5,
   "metadata": {},
   "outputs": [],
   "source": [
    "def create_test_data():\n",
    "    ####for loop to fetch img from directory (hint:use tqdm)###\n",
    "    test_list = []\n",
    "    for file in tqdm(os.listdir(test_dir)):\n",
    "        full_img_str = test_dir + \"/\" + file\n",
    "        \n",
    "        ###get label of img###\n",
    "        ###use cv2 to read the img and resize the it to (227 x 227)###\n",
    "        the_img = cv2.imread(full_img_str)\n",
    "        resized_img = cv2.resize(the_img,(227,227))\n",
    "        test_list.append(resized_img)\n",
    "        \n",
    "        ###append the img and label to the list###\n",
    "    ###shuffle training data###\n",
    "    np.random.shuffle(test_list)\n",
    "    \n",
    "    ###return training data###\n",
    "    return test_list"
   ]
  },
  {
   "cell_type": "markdown",
   "metadata": {},
   "source": [
    "<p style=\"font-size:20px\">Step 4: create your train and test data</p>"
   ]
  },
  {
   "cell_type": "code",
   "execution_count": 6,
   "metadata": {},
   "outputs": [
    {
     "name": "stderr",
     "output_type": "stream",
     "text": [
      "100%|███████████████████████████████████████████████████████████████████████████| 25000/25000 [01:13<00:00, 340.53it/s]\n",
      "100%|███████████████████████████████████████████████████████████████████████████| 12500/12500 [00:47<00:00, 262.12it/s]\n"
     ]
    }
   ],
   "source": [
    "train_data = create_train_data()\n",
    "test_data = create_test_data()"
   ]
  },
  {
   "cell_type": "markdown",
   "metadata": {},
   "source": [
    "<p style=\"font-size:20px\"> You can visualize the image using plt.imshow()"
   ]
  },
  {
   "cell_type": "code",
   "execution_count": null,
   "metadata": {},
   "outputs": [],
   "source": []
  },
  {
   "cell_type": "markdown",
   "metadata": {},
   "source": [
    "<p style=\"font-size:20px\">Step 5: Reshape all images to have shape (#, 227, 227, 3). Use 500 training data as your validation set."
   ]
  },
  {
   "cell_type": "code",
   "execution_count": 7,
   "metadata": {},
   "outputs": [
    {
     "name": "stdout",
     "output_type": "stream",
     "text": [
      "25000\n",
      "12500\n",
      "2\n",
      "(227, 227, 3)\n"
     ]
    }
   ],
   "source": [
    "print(len(train_data))\n",
    "print(len(test_data))\n",
    "\n",
    "print(len(train_data[0]))\n",
    "print(train_data[0][0].shape)"
   ]
  },
  {
   "cell_type": "markdown",
   "metadata": {},
   "source": [
    "<p style=\"font-size:20px\">Step 6: Save training data, validation data and testing data as Pickle object</p>\n",
    "<p style=\"font-size:20px\">Note: You can't save all training data into one file because it has several Gigabytes. Separate your data wisely and save them into different files</p>"
   ]
  },
  {
   "cell_type": "code",
   "execution_count": 8,
   "metadata": {},
   "outputs": [],
   "source": [
    "#split the data for training and validation\n",
    "train1 = train_data[0:4900]\n",
    "train2 = train_data[4900:9800]\n",
    "train3 = train_data[9800:14700]\n",
    "train4 = train_data[14700:19600]\n",
    "train5 = train_data[19600:24500]\n",
    "valid = train_data[24500:25000]\n",
    "\n",
    "#save it\n",
    "with open(\"cats_dogs_train1\", 'wb') as handle:\n",
    "    pickle.dump(train1, handle, protocol=pickle.HIGHEST_PROTOCOL)\n",
    "        \n",
    "with open(\"cats_dogs_train2\", 'wb') as handle:\n",
    "    pickle.dump(train2, handle, protocol=pickle.HIGHEST_PROTOCOL)\n",
    "    \n",
    "with open(\"cats_dogs_train3\", 'wb') as handle:\n",
    "    pickle.dump(train3, handle, protocol=pickle.HIGHEST_PROTOCOL)\n",
    "    \n",
    "with open(\"cats_dogs_train4\", 'wb') as handle:\n",
    "    pickle.dump(train4, handle, protocol=pickle.HIGHEST_PROTOCOL)\n",
    "    \n",
    "with open(\"cats_dogs_train5\", 'wb') as handle:\n",
    "    pickle.dump(train5, handle, protocol=pickle.HIGHEST_PROTOCOL)\n",
    "    \n",
    "with open(\"cats_dogs_valid\", 'wb') as handle:\n",
    "    pickle.dump(valid, handle, protocol=pickle.HIGHEST_PROTOCOL)\n",
    "    \n",
    "with open(\"cats_dogs_test\", 'wb') as handle:\n",
    "    pickle.dump(test_data, handle, protocol=pickle.HIGHEST_PROTOCOL)\n",
    "    \n"
   ]
  },
  {
   "cell_type": "code",
   "execution_count": null,
   "metadata": {},
   "outputs": [],
   "source": []
  }
 ],
 "metadata": {
  "kernelspec": {
   "display_name": "Python 3",
   "language": "python",
   "name": "python3"
  },
  "language_info": {
   "codemirror_mode": {
    "name": "ipython",
    "version": 3
   },
   "file_extension": ".py",
   "mimetype": "text/x-python",
   "name": "python",
   "nbconvert_exporter": "python",
   "pygments_lexer": "ipython3",
   "version": "3.7.3"
  }
 },
 "nbformat": 4,
 "nbformat_minor": 2
}
