{
 "cells": [
  {
   "cell_type": "code",
   "execution_count": 69,
   "metadata": {},
   "outputs": [],
   "source": [
    "import tensorflow as tf\n",
    "import numpy as np\n",
    "import timeit\n",
    "from sklearn.utils import shuffle\n",
    "from tensorflow.contrib.layers import flatten\n",
    "import matplotlib.pyplot as plt\n",
    "old_v = tf.logging.get_verbosity()\n",
    "tf.logging.set_verbosity(tf.logging.ERROR)"
   ]
  },
  {
   "cell_type": "markdown",
   "metadata": {},
   "source": [
    "<h1>Extract MNIST data</h1>"
   ]
  },
  {
   "cell_type": "code",
   "execution_count": 70,
   "metadata": {},
   "outputs": [
    {
     "name": "stdout",
     "output_type": "stream",
     "text": [
      "Extracting MNIST_data/train-images-idx3-ubyte.gz\n",
      "Extracting MNIST_data/train-labels-idx1-ubyte.gz\n",
      "Extracting MNIST_data/t10k-images-idx3-ubyte.gz\n",
      "Extracting MNIST_data/t10k-labels-idx1-ubyte.gz\n"
     ]
    }
   ],
   "source": [
    "from tensorflow.examples.tutorials.mnist import input_data\n",
    "#get mnist data, with one_hot encoding, reshape = False (that means images are not flatten)\n",
    "mnist = input_data.read_data_sets(\"MNIST_data/\",reshape=False,one_hot=True)\n",
    "#suppress warnings\n",
    "tf.logging.set_verbosity(old_v)"
   ]
  },
  {
   "cell_type": "markdown",
   "metadata": {},
   "source": [
    "<h1>Prepare training, validation and testing data</h1>"
   ]
  },
  {
   "cell_type": "code",
   "execution_count": 71,
   "metadata": {},
   "outputs": [],
   "source": [
    "x_train, y_train           = mnist.train.images, mnist.train.labels\n",
    "x_validation, y_validation = mnist.validation.images, mnist.validation.labels\n",
    "x_test, y_test             = mnist.test.images, mnist.test.labels\n",
    "\n",
    "#pad images with 0s (28x28 to 32x32)\n",
    "x_train      = np.pad(x_train, ((0,0),(2,2),(2,2),(0,0)), 'constant')\n",
    "x_validation = np.pad(x_validation, ((0,0),(2,2),(2,2),(0,0)), 'constant')\n",
    "x_test       = np.pad(x_test, ((0,0),(2,2),(2,2),(0,0)), 'constant')\n",
    "\n",
    "x_train, y_train = shuffle(x_train, y_train)"
   ]
  },
  {
   "cell_type": "markdown",
   "metadata": {},
   "source": [
    "<h1>Define hyperparameter</h1>"
   ]
  },
  {
   "cell_type": "code",
   "execution_count": 72,
   "metadata": {},
   "outputs": [],
   "source": [
    "#learning rate\n",
    "lr = 0.001\n",
    "#number of traning steps\n",
    "num_steps = 50\n",
    "#number of batch_size\n",
    "batch_size = 100\n",
    "#num_input = 784\n",
    "num_classes = 10\n",
    "\n",
    "num_train_batches = int(55000 / batch_size)\n",
    "num_valid_batches = int(5000 / batch_size)\n",
    "num_test_batches = int(10000 / batch_size)"
   ]
  },
  {
   "cell_type": "code",
   "execution_count": 73,
   "metadata": {},
   "outputs": [],
   "source": [
    "tf.reset_default_graph()"
   ]
  },
  {
   "cell_type": "markdown",
   "metadata": {},
   "source": [
    "<h1>Placeholder</h1>"
   ]
  },
  {
   "cell_type": "code",
   "execution_count": 74,
   "metadata": {},
   "outputs": [],
   "source": [
    "#tf graph input\n",
    "X = tf.placeholder(tf.float32,[None,32,32,1],name='X')\n",
    "Y = tf.placeholder(tf.int32,[None,num_classes],name='Y')"
   ]
  },
  {
   "cell_type": "markdown",
   "metadata": {},
   "source": [
    "<h1>Define LeNet-5</h1>"
   ]
  },
  {
   "cell_type": "code",
   "execution_count": 78,
   "metadata": {},
   "outputs": [],
   "source": [
    "def LeNet(x):    \n",
    "    #first conv/pool pair\n",
    "    conv1 = tf.layers.conv2d(x, 6, 5, activation=tf.nn.relu)\n",
    "    pool1 = tf.layers.max_pooling2d(conv1, 2, 2)\n",
    "    \n",
    "    #second conv/pool pairr\n",
    "    conv2 = tf.layers.conv2d(pool1, 16, 5, activation=tf.nn.relu)\n",
    "    pool2 = tf.layers.max_pooling2d(conv2, 2, 2)\n",
    "    \n",
    "    #flatten to connect to fully connected\n",
    "    full_in = flatten(pool2)\n",
    "    \n",
    "    #fully connected layer\n",
    "    full1 = tf.contrib.layers.fully_connected(inputs=full_in, num_outputs=120, activation_fn=tf.nn.relu)\n",
    "    full2 = tf.contrib.layers.fully_connected(inputs=full1, num_outputs=84, activation_fn=tf.nn.relu)\n",
    "    logits = tf.contrib.layers.fully_connected(inputs=full2, num_outputs=10, activation_fn=None)\n",
    "    return logits"
   ]
  },
  {
   "cell_type": "markdown",
   "metadata": {},
   "source": [
    "<h1>Cost and optimization</h1>"
   ]
  },
  {
   "cell_type": "code",
   "execution_count": 79,
   "metadata": {},
   "outputs": [],
   "source": [
    "#predicted labels\n",
    "logits = LeNet(X)\n",
    "\n",
    "#define loss\n",
    "loss = tf.reduce_mean(tf.nn.softmax_cross_entropy_with_logits_v2(logits=logits,labels=Y),name='loss')\n",
    "#define optimizer\n",
    "optimizer = tf.train.AdamOptimizer(learning_rate=lr)\n",
    "train_op = optimizer.minimize(loss)\n",
    "#optimizer = tf.train.AdamOptimizer()\n",
    "#train_op = optimizer.minimize(loss)\n",
    "\n",
    "#compare the predicted labels with true labels\n",
    "correct_pred = tf.equal(tf.argmax(logits,1),tf.argmax(Y,1))\n",
    "\n",
    "#compute the accuracy by taking average\n",
    "accuracy = tf.reduce_mean(tf.cast(correct_pred,tf.float32),name='accuracy')"
   ]
  },
  {
   "cell_type": "markdown",
   "metadata": {},
   "source": [
    "<h1>Training, validating, testing</h1>\n",
    "<h2>1. Print out validation accuracy after each training epoch</h2>\n",
    "<h2>2. Print out training time on each epoch</h2>\n",
    "<h2>3. Print out testing accuracy</h2>"
   ]
  },
  {
   "cell_type": "code",
   "execution_count": 80,
   "metadata": {},
   "outputs": [
    {
     "name": "stdout",
     "output_type": "stream",
     "text": [
      "step 0, Accuracy= 0.974\n",
      "step 1, Accuracy= 0.982\n",
      "step 2, Accuracy= 0.987\n",
      "step 3, Accuracy= 0.988\n",
      "step 4, Accuracy= 0.988\n",
      "step 5, Accuracy= 0.987\n",
      "step 6, Accuracy= 0.987\n",
      "step 7, Accuracy= 0.987\n",
      "step 8, Accuracy= 0.986\n",
      "step 9, Accuracy= 0.989\n",
      "step 10, Accuracy= 0.990\n",
      "step 11, Accuracy= 0.988\n",
      "step 12, Accuracy= 0.990\n",
      "step 13, Accuracy= 0.990\n",
      "step 14, Accuracy= 0.988\n",
      "step 15, Accuracy= 0.988\n",
      "step 16, Accuracy= 0.990\n",
      "step 17, Accuracy= 0.990\n",
      "step 18, Accuracy= 0.991\n",
      "step 19, Accuracy= 0.989\n",
      "step 20, Accuracy= 0.989\n",
      "step 21, Accuracy= 0.990\n",
      "step 22, Accuracy= 0.990\n",
      "step 23, Accuracy= 0.991\n",
      "step 24, Accuracy= 0.988\n",
      "step 25, Accuracy= 0.990\n",
      "step 26, Accuracy= 0.989\n",
      "step 27, Accuracy= 0.988\n",
      "step 28, Accuracy= 0.990\n",
      "step 29, Accuracy= 0.986\n",
      "step 30, Accuracy= 0.990\n",
      "step 31, Accuracy= 0.992\n",
      "step 32, Accuracy= 0.991\n",
      "step 33, Accuracy= 0.990\n",
      "step 34, Accuracy= 0.991\n",
      "step 35, Accuracy= 0.991\n",
      "step 36, Accuracy= 0.990\n",
      "step 37, Accuracy= 0.990\n",
      "step 38, Accuracy= 0.989\n",
      "step 39, Accuracy= 0.990\n",
      "step 40, Accuracy= 0.989\n",
      "step 41, Accuracy= 0.989\n",
      "step 42, Accuracy= 0.990\n",
      "step 43, Accuracy= 0.989\n",
      "step 44, Accuracy= 0.989\n",
      "step 45, Accuracy= 0.989\n",
      "step 46, Accuracy= 0.989\n",
      "step 47, Accuracy= 0.988\n",
      "step 48, Accuracy= 0.990\n",
      "step 49, Accuracy= 0.989\n",
      "Training finished!\n",
      "step 49, Accuracy= 0.990\n"
     ]
    },
    {
     "data": {
      "text/plain": [
       "Text(0.5, 1.0, 'Epoch vs accuracy')"
      ]
     },
     "execution_count": 80,
     "metadata": {},
     "output_type": "execute_result"
    },
    {
     "data": {
      "image/png": "[encoded data removed]",
      "text/plain": [
       "<Figure size 432x288 with 1 Axes>"
      ]
     },
     "metadata": {
      "needs_background": "light"
     },
     "output_type": "display_data"
    }
   ],
   "source": [
    "init = tf.global_variables_initializer()\n",
    "acc_list = []\n",
    "steps = []\n",
    "with tf.Session() as sess:\n",
    "    sess.run(init)\n",
    "    \n",
    "    for i in range(num_steps):\n",
    "        #epoch training\n",
    "        #acc_t = 0\n",
    "        for j in range(num_train_batches):\n",
    "            #fetch batch\n",
    "            batch_x = x_train[j*batch_size:j*batch_size + batch_size]\n",
    "            batch_y = y_train[j*batch_size:j*batch_size + batch_size]\n",
    "            #run optimization\n",
    "            sess.run(train_op, feed_dict={X:batch_x, Y:batch_y})\n",
    "            \n",
    "            #acc_t += sess.run(accuracy, feed_dict={X:batch_x, Y:batch_y})\n",
    "        \n",
    "        #acc_t = acc_t/len(train_set_data)\n",
    "        #print(\"step \"+str(i)+\", Accuracy training= {:.3f}\".format(acc_t))\n",
    "            \n",
    "        #epoch validation\n",
    "        acc = 0\n",
    "        for j in range(num_valid_batches):\n",
    "            #fetch batch\n",
    "            batch_x = x_validation[j*batch_size:j*batch_size + batch_size]\n",
    "            batch_y = y_validation[j*batch_size:j*batch_size + batch_size]\n",
    "            #run optimization\n",
    "            acc += sess.run(accuracy, feed_dict={X:batch_x, Y:batch_y})\n",
    "        \n",
    "        acc = acc/num_valid_batches\n",
    "        \n",
    "        acc_list.append(acc)\n",
    "        steps.append(i)\n",
    "        print(\"step \"+str(i)+\", Accuracy= {:.3f}\".format(acc))\n",
    "    \n",
    "    print(\"Training finished!\")\n",
    "    \n",
    "    acc = 0\n",
    "    for k in range(num_test_batches):\n",
    "        #fetch batch\n",
    "        batch_x = x_test[k*batch_size:k*batch_size + batch_size]\n",
    "        batch_y = y_test[k*batch_size:k*batch_size + batch_size]\n",
    "        #run optimization\n",
    "        acc += sess.run(accuracy, feed_dict={X:batch_x, Y:batch_y})\n",
    "\n",
    "    acc = acc/num_test_batches\n",
    "    print(\"step \"+str(i)+\", Accuracy= {:.3f}\".format(acc))\n",
    "    \n",
    "    #print(\"Testing Accuracy:\", sess.run(accuracy, feed_dict={X:mnist.test.images, Y:mnist.test.labels}))\n",
    "    \n",
    "plt.figure()\n",
    "# plot epoch vs accuracy\n",
    "plt.plot(steps,acc_list,'--',lw=4)\n",
    "plt.ylabel('accuracy')\n",
    "plt.xlabel('epoch')\n",
    "plt.title('Epoch vs accuracy')"
   ]
  },
  {
   "cell_type": "code",
   "execution_count": null,
   "metadata": {},
   "outputs": [],
   "source": []
  }
 ],
 "metadata": {
  "kernelspec": {
   "display_name": "Python 3",
   "language": "python",
   "name": "python3"
  },
  "language_info": {
   "codemirror_mode": {
    "name": "ipython",
    "version": 3
   },
   "file_extension": ".py",
   "mimetype": "text/x-python",
   "name": "python",
   "nbconvert_exporter": "python",
   "pygments_lexer": "ipython3",
   "version": "3.7.3"
  }
 },
 "nbformat": 4,
 "nbformat_minor": 2
}
